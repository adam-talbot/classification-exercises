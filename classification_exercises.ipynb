{
 "cells": [
  {
   "cell_type": "markdown",
   "id": "c3d4d557-91f4-49a4-b3ee-4ea0bb013e67",
   "metadata": {},
   "source": [
    "# Data Acquisition"
   ]
  },
  {
   "cell_type": "code",
   "execution_count": 125,
   "id": "01058b35-f2bf-415d-b08a-e14d7bb96655",
   "metadata": {},
   "outputs": [],
   "source": [
    "import matplotlib.pyplot as plt\n",
    "import numpy as np\n",
    "import pandas as pd\n",
    "import seaborn as sns\n",
    "from pydataset import data\n",
    "\n",
    "import warnings\n",
    "warnings.filterwarnings(\"ignore\")"
   ]
  },
  {
   "cell_type": "markdown",
   "id": "911cecc1-227a-458e-9c71-3ec167639177",
   "metadata": {},
   "source": [
    "## 1. "
   ]
  },
  {
   "cell_type": "markdown",
   "id": "9438e034-1d08-4b53-932c-83cf44654181",
   "metadata": {},
   "source": [
    "Use a python module (pydata or seaborn datasets) containing datasets as a source from the iris data. Create a pandas dataframe, df_iris, from this data."
   ]
  },
  {
   "cell_type": "code",
   "execution_count": 2,
   "id": "5b9fe1ce-1229-4ae2-af39-2f14a34f4874",
   "metadata": {},
   "outputs": [],
   "source": [
    "df_iris = data('iris')"
   ]
  },
  {
   "cell_type": "markdown",
   "id": "de253309-a883-44e2-a6f9-11d5712c669a",
   "metadata": {},
   "source": [
    "- print the first 3 rows"
   ]
  },
  {
   "cell_type": "code",
   "execution_count": 3,
   "id": "21df0d12-0c38-4f4a-b122-6f527a261217",
   "metadata": {},
   "outputs": [
    {
     "data": {
      "text/html": [
       "<div>\n",
       "<style scoped>\n",
       "    .dataframe tbody tr th:only-of-type {\n",
       "        vertical-align: middle;\n",
       "    }\n",
       "\n",
       "    .dataframe tbody tr th {\n",
       "        vertical-align: top;\n",
       "    }\n",
       "\n",
       "    .dataframe thead th {\n",
       "        text-align: right;\n",
       "    }\n",
       "</style>\n",
       "<table border=\"1\" class=\"dataframe\">\n",
       "  <thead>\n",
       "    <tr style=\"text-align: right;\">\n",
       "      <th></th>\n",
       "      <th>Sepal.Length</th>\n",
       "      <th>Sepal.Width</th>\n",
       "      <th>Petal.Length</th>\n",
       "      <th>Petal.Width</th>\n",
       "      <th>Species</th>\n",
       "    </tr>\n",
       "  </thead>\n",
       "  <tbody>\n",
       "    <tr>\n",
       "      <th>1</th>\n",
       "      <td>5.1</td>\n",
       "      <td>3.5</td>\n",
       "      <td>1.4</td>\n",
       "      <td>0.2</td>\n",
       "      <td>setosa</td>\n",
       "    </tr>\n",
       "    <tr>\n",
       "      <th>2</th>\n",
       "      <td>4.9</td>\n",
       "      <td>3.0</td>\n",
       "      <td>1.4</td>\n",
       "      <td>0.2</td>\n",
       "      <td>setosa</td>\n",
       "    </tr>\n",
       "    <tr>\n",
       "      <th>3</th>\n",
       "      <td>4.7</td>\n",
       "      <td>3.2</td>\n",
       "      <td>1.3</td>\n",
       "      <td>0.2</td>\n",
       "      <td>setosa</td>\n",
       "    </tr>\n",
       "  </tbody>\n",
       "</table>\n",
       "</div>"
      ],
      "text/plain": [
       "   Sepal.Length  Sepal.Width  Petal.Length  Petal.Width Species\n",
       "1           5.1          3.5           1.4          0.2  setosa\n",
       "2           4.9          3.0           1.4          0.2  setosa\n",
       "3           4.7          3.2           1.3          0.2  setosa"
      ]
     },
     "execution_count": 3,
     "metadata": {},
     "output_type": "execute_result"
    }
   ],
   "source": [
    "df_iris.head(3)"
   ]
  },
  {
   "cell_type": "markdown",
   "id": "41e5b7f4-7f2e-40f4-a644-43a6e09953a9",
   "metadata": {},
   "source": [
    "- print the number of rows and columns (shape)"
   ]
  },
  {
   "cell_type": "code",
   "execution_count": 4,
   "id": "51315445-a72c-4d2e-9cae-0baab131be7f",
   "metadata": {},
   "outputs": [
    {
     "data": {
      "text/plain": [
       "(150, 5)"
      ]
     },
     "execution_count": 4,
     "metadata": {},
     "output_type": "execute_result"
    }
   ],
   "source": [
    "df_iris.shape"
   ]
  },
  {
   "cell_type": "markdown",
   "id": "a69d6723-067a-4f51-8c53-b5cbdfc6ce71",
   "metadata": {},
   "source": [
    "- print the column names"
   ]
  },
  {
   "cell_type": "code",
   "execution_count": 5,
   "id": "bad095b0-ca67-4055-9854-0448bc5f3c87",
   "metadata": {},
   "outputs": [
    {
     "data": {
      "text/plain": [
       "Index(['Sepal.Length', 'Sepal.Width', 'Petal.Length', 'Petal.Width',\n",
       "       'Species'],\n",
       "      dtype='object')"
      ]
     },
     "execution_count": 5,
     "metadata": {},
     "output_type": "execute_result"
    }
   ],
   "source": [
    "df_iris.columns"
   ]
  },
  {
   "cell_type": "markdown",
   "id": "c3e1a759-9b37-4b09-a1f9-2afc3b17433d",
   "metadata": {},
   "source": [
    "- print the data type of each column"
   ]
  },
  {
   "cell_type": "code",
   "execution_count": 6,
   "id": "bc236e76-3a08-4c31-a653-f46b5147ea12",
   "metadata": {},
   "outputs": [
    {
     "data": {
      "text/plain": [
       "Sepal.Length    float64\n",
       "Sepal.Width     float64\n",
       "Petal.Length    float64\n",
       "Petal.Width     float64\n",
       "Species          object\n",
       "dtype: object"
      ]
     },
     "execution_count": 6,
     "metadata": {},
     "output_type": "execute_result"
    }
   ],
   "source": [
    "df_iris.dtypes"
   ]
  },
  {
   "cell_type": "markdown",
   "id": "4bed4fbf-7b41-48af-bbc6-1ae24cc0a33a",
   "metadata": {},
   "source": [
    "- print the summary statistics for each of the numeric variables. Would you recommend rescaling the data based on these statistics?"
   ]
  },
  {
   "cell_type": "code",
   "execution_count": 7,
   "id": "daffc946-b566-49bb-bfd9-de80496d39a8",
   "metadata": {},
   "outputs": [
    {
     "data": {
      "text/html": [
       "<div>\n",
       "<style scoped>\n",
       "    .dataframe tbody tr th:only-of-type {\n",
       "        vertical-align: middle;\n",
       "    }\n",
       "\n",
       "    .dataframe tbody tr th {\n",
       "        vertical-align: top;\n",
       "    }\n",
       "\n",
       "    .dataframe thead th {\n",
       "        text-align: right;\n",
       "    }\n",
       "</style>\n",
       "<table border=\"1\" class=\"dataframe\">\n",
       "  <thead>\n",
       "    <tr style=\"text-align: right;\">\n",
       "      <th></th>\n",
       "      <th>count</th>\n",
       "      <th>mean</th>\n",
       "      <th>std</th>\n",
       "      <th>min</th>\n",
       "      <th>25%</th>\n",
       "      <th>50%</th>\n",
       "      <th>75%</th>\n",
       "      <th>max</th>\n",
       "    </tr>\n",
       "  </thead>\n",
       "  <tbody>\n",
       "    <tr>\n",
       "      <th>Sepal.Length</th>\n",
       "      <td>150.0</td>\n",
       "      <td>5.843333</td>\n",
       "      <td>0.828066</td>\n",
       "      <td>4.3</td>\n",
       "      <td>5.1</td>\n",
       "      <td>5.80</td>\n",
       "      <td>6.4</td>\n",
       "      <td>7.9</td>\n",
       "    </tr>\n",
       "    <tr>\n",
       "      <th>Sepal.Width</th>\n",
       "      <td>150.0</td>\n",
       "      <td>3.057333</td>\n",
       "      <td>0.435866</td>\n",
       "      <td>2.0</td>\n",
       "      <td>2.8</td>\n",
       "      <td>3.00</td>\n",
       "      <td>3.3</td>\n",
       "      <td>4.4</td>\n",
       "    </tr>\n",
       "    <tr>\n",
       "      <th>Petal.Length</th>\n",
       "      <td>150.0</td>\n",
       "      <td>3.758000</td>\n",
       "      <td>1.765298</td>\n",
       "      <td>1.0</td>\n",
       "      <td>1.6</td>\n",
       "      <td>4.35</td>\n",
       "      <td>5.1</td>\n",
       "      <td>6.9</td>\n",
       "    </tr>\n",
       "    <tr>\n",
       "      <th>Petal.Width</th>\n",
       "      <td>150.0</td>\n",
       "      <td>1.199333</td>\n",
       "      <td>0.762238</td>\n",
       "      <td>0.1</td>\n",
       "      <td>0.3</td>\n",
       "      <td>1.30</td>\n",
       "      <td>1.8</td>\n",
       "      <td>2.5</td>\n",
       "    </tr>\n",
       "  </tbody>\n",
       "</table>\n",
       "</div>"
      ],
      "text/plain": [
       "              count      mean       std  min  25%   50%  75%  max\n",
       "Sepal.Length  150.0  5.843333  0.828066  4.3  5.1  5.80  6.4  7.9\n",
       "Sepal.Width   150.0  3.057333  0.435866  2.0  2.8  3.00  3.3  4.4\n",
       "Petal.Length  150.0  3.758000  1.765298  1.0  1.6  4.35  5.1  6.9\n",
       "Petal.Width   150.0  1.199333  0.762238  0.1  0.3  1.30  1.8  2.5"
      ]
     },
     "execution_count": 7,
     "metadata": {},
     "output_type": "execute_result"
    }
   ],
   "source": [
    "df_iris.describe().T"
   ]
  },
  {
   "cell_type": "markdown",
   "id": "c4457dd7-99aa-4629-a05f-0fe45582533b",
   "metadata": {},
   "source": [
    "**Based on summary statistics, rescaling does not seem to be necessary for this data set, values seem similar in units and magnitude**"
   ]
  },
  {
   "cell_type": "markdown",
   "id": "c247ce0e-1234-4070-a7b2-d5b380ff6570",
   "metadata": {},
   "source": [
    "## 2."
   ]
  },
  {
   "cell_type": "markdown",
   "id": "d97c5f3d-0fd2-4423-a213-cd253b6012c9",
   "metadata": {},
   "source": [
    "Read the Table1_CustDetails table from the Excel_Exercises.xlsx file into a dataframe named df_excel."
   ]
  },
  {
   "cell_type": "code",
   "execution_count": 8,
   "id": "a2c3a6e0-1f3d-4350-bc53-f147a068f5e5",
   "metadata": {},
   "outputs": [],
   "source": [
    "df_excel = pd.read_excel(\"~/codeup-data-science/data/Spreadsheets_Exercises.xlsx\")"
   ]
  },
  {
   "cell_type": "code",
   "execution_count": 9,
   "id": "f31b7153-8b2e-4f27-9b46-ec23c81f09c0",
   "metadata": {},
   "outputs": [],
   "source": [
    "df_excel.drop(columns = ['Unnamed: 12', 'Unnamed: 13'], inplace = True)"
   ]
  },
  {
   "cell_type": "markdown",
   "id": "d02eaef7-974c-4604-9796-dda903ea14b9",
   "metadata": {},
   "source": [
    "- assign the first 100 rows to a new dataframe, df_excel_sample"
   ]
  },
  {
   "cell_type": "code",
   "execution_count": 10,
   "id": "ec6f96b8-81e3-495a-b3dc-b9f39b76c617",
   "metadata": {},
   "outputs": [],
   "source": [
    "# df_excel_sample = df_excel.head(100) # This would create a copy that points to same df in memory and both sample and original would be edited when making changes to sample"
   ]
  },
  {
   "cell_type": "code",
   "execution_count": 11,
   "id": "6104e8d3-100a-45db-b6ea-898bdeb7387b",
   "metadata": {},
   "outputs": [],
   "source": [
    "# better way to do this since dfs are mutable and we don't want to be alterating the original df when we alter the sample\n",
    "\n",
    "df_excel_sample = df_excel.head(100).copy()"
   ]
  },
  {
   "cell_type": "markdown",
   "id": "0cf60bff-9691-4cfb-af53-756c844a5536",
   "metadata": {},
   "source": [
    "- print the number of rows of your original dataframe"
   ]
  },
  {
   "cell_type": "code",
   "execution_count": 12,
   "id": "81bb4d50-3366-4a43-b863-d78a5fd20df9",
   "metadata": {},
   "outputs": [
    {
     "data": {
      "text/plain": [
       "7049"
      ]
     },
     "execution_count": 12,
     "metadata": {},
     "output_type": "execute_result"
    }
   ],
   "source": [
    "df_excel.shape[0]"
   ]
  },
  {
   "cell_type": "markdown",
   "id": "2398f755-8ebc-41a3-8291-42a96d848b4a",
   "metadata": {},
   "source": [
    "- print the first 5 column names"
   ]
  },
  {
   "cell_type": "code",
   "execution_count": 13,
   "id": "b77999c5-42b2-43f1-a4c4-7d0f6571d6b6",
   "metadata": {},
   "outputs": [
    {
     "data": {
      "text/plain": [
       "['customer_id', 'gender', 'is_senior_citizen', 'partner', 'dependents']"
      ]
     },
     "execution_count": 13,
     "metadata": {},
     "output_type": "execute_result"
    }
   ],
   "source": [
    "df_excel.columns[0:5].tolist()"
   ]
  },
  {
   "cell_type": "markdown",
   "id": "fb3a5892-2c1c-4ca7-9961-51f50a7f739d",
   "metadata": {},
   "source": [
    "- print the column names that have a data type of object"
   ]
  },
  {
   "cell_type": "code",
   "execution_count": 14,
   "id": "5008251f-96de-4436-b166-c59bccedee82",
   "metadata": {},
   "outputs": [
    {
     "data": {
      "text/plain": [
       "['customer_id', 'gender', 'partner', 'dependents', 'payment_type', 'churn']"
      ]
     },
     "execution_count": 14,
     "metadata": {},
     "output_type": "execute_result"
    }
   ],
   "source": [
    "df_excel.select_dtypes(include=[\"object\"]).columns.tolist()"
   ]
  },
  {
   "cell_type": "markdown",
   "id": "d73f5206-efe6-4639-af46-5803657e1dad",
   "metadata": {},
   "source": [
    "- compute the range for each of the numeric variables."
   ]
  },
  {
   "cell_type": "code",
   "execution_count": 15,
   "id": "5a7f59a2-96ca-47fc-b456-285464f3f3bd",
   "metadata": {},
   "outputs": [
    {
     "data": {
      "text/plain": [
       "Index(['monthly_charges', 'total_charges'], dtype='object')"
      ]
     },
     "execution_count": 15,
     "metadata": {},
     "output_type": "execute_result"
    }
   ],
   "source": [
    "# numeric types in this df are float64 data type, int64 columns are categorical or boolean columns\n",
    "df_excel.select_dtypes(include=['float64']).columns"
   ]
  },
  {
   "cell_type": "code",
   "execution_count": 16,
   "id": "2a45ef92-ac90-4751-9f28-ee41416df9cb",
   "metadata": {},
   "outputs": [
    {
     "data": {
      "text/plain": [
       "100.5"
      ]
     },
     "execution_count": 16,
     "metadata": {},
     "output_type": "execute_result"
    }
   ],
   "source": [
    "# range for monthly charges column\n",
    "df_excel.monthly_charges.max() - df_excel.monthly_charges.min()"
   ]
  },
  {
   "cell_type": "code",
   "execution_count": 17,
   "id": "d99d10d1-04b9-498b-9c98-43059b1b4071",
   "metadata": {},
   "outputs": [
    {
     "data": {
      "text/plain": [
       "8666.0"
      ]
     },
     "execution_count": 17,
     "metadata": {},
     "output_type": "execute_result"
    }
   ],
   "source": [
    "# range for total charges column\n",
    "df_excel.total_charges.max() - df_excel.total_charges.min()"
   ]
  },
  {
   "cell_type": "markdown",
   "id": "0ba7703c-042f-4a2e-852c-07c8de37a34c",
   "metadata": {},
   "source": [
    "## 3."
   ]
  },
  {
   "cell_type": "markdown",
   "id": "22ed9348-392d-4e65-9967-86c528cc67b7",
   "metadata": {},
   "source": [
    "Read the data from this google sheet (https://docs.google.com/spreadsheets/d/1Uhtml8KY19LILuZsrDtlsHHDC9wuDGUSe8LTEwvdI5g/edit#gid=341089357) into a dataframe, df_google"
   ]
  },
  {
   "cell_type": "code",
   "execution_count": 18,
   "id": "5b7777a2-8a0b-4ef8-a6a8-b0dd80ed4b49",
   "metadata": {},
   "outputs": [],
   "source": [
    "sheet_url = 'https://docs.google.com/spreadsheets/d/1Uhtml8KY19LILuZsrDtlsHHDC9wuDGUSe8LTEwvdI5g/edit#gid=341089357'    \n",
    "\n",
    "csv_export_url = sheet_url.replace('/edit#gid=', '/export?format=csv&gid=')\n",
    "\n",
    "df_google = pd.read_csv(csv_export_url)"
   ]
  },
  {
   "cell_type": "markdown",
   "id": "56707b84-3fbf-4b16-89ff-ff4d5a48edf6",
   "metadata": {},
   "source": [
    "- print the first 3 rows"
   ]
  },
  {
   "cell_type": "code",
   "execution_count": 19,
   "id": "4c95cb09-07bb-401e-bb86-8ec4321d40a6",
   "metadata": {},
   "outputs": [
    {
     "data": {
      "text/html": [
       "<div>\n",
       "<style scoped>\n",
       "    .dataframe tbody tr th:only-of-type {\n",
       "        vertical-align: middle;\n",
       "    }\n",
       "\n",
       "    .dataframe tbody tr th {\n",
       "        vertical-align: top;\n",
       "    }\n",
       "\n",
       "    .dataframe thead th {\n",
       "        text-align: right;\n",
       "    }\n",
       "</style>\n",
       "<table border=\"1\" class=\"dataframe\">\n",
       "  <thead>\n",
       "    <tr style=\"text-align: right;\">\n",
       "      <th></th>\n",
       "      <th>PassengerId</th>\n",
       "      <th>Survived</th>\n",
       "      <th>Pclass</th>\n",
       "      <th>Name</th>\n",
       "      <th>Sex</th>\n",
       "      <th>Age</th>\n",
       "      <th>SibSp</th>\n",
       "      <th>Parch</th>\n",
       "      <th>Ticket</th>\n",
       "      <th>Fare</th>\n",
       "      <th>Cabin</th>\n",
       "      <th>Embarked</th>\n",
       "    </tr>\n",
       "  </thead>\n",
       "  <tbody>\n",
       "    <tr>\n",
       "      <th>0</th>\n",
       "      <td>1</td>\n",
       "      <td>0</td>\n",
       "      <td>3</td>\n",
       "      <td>Braund, Mr. Owen Harris</td>\n",
       "      <td>male</td>\n",
       "      <td>22.0</td>\n",
       "      <td>1</td>\n",
       "      <td>0</td>\n",
       "      <td>A/5 21171</td>\n",
       "      <td>7.2500</td>\n",
       "      <td>NaN</td>\n",
       "      <td>S</td>\n",
       "    </tr>\n",
       "    <tr>\n",
       "      <th>1</th>\n",
       "      <td>2</td>\n",
       "      <td>1</td>\n",
       "      <td>1</td>\n",
       "      <td>Cumings, Mrs. John Bradley (Florence Briggs Thayer)</td>\n",
       "      <td>female</td>\n",
       "      <td>38.0</td>\n",
       "      <td>1</td>\n",
       "      <td>0</td>\n",
       "      <td>PC 17599</td>\n",
       "      <td>71.2833</td>\n",
       "      <td>C85</td>\n",
       "      <td>C</td>\n",
       "    </tr>\n",
       "    <tr>\n",
       "      <th>2</th>\n",
       "      <td>3</td>\n",
       "      <td>1</td>\n",
       "      <td>3</td>\n",
       "      <td>Heikkinen, Miss. Laina</td>\n",
       "      <td>female</td>\n",
       "      <td>26.0</td>\n",
       "      <td>0</td>\n",
       "      <td>0</td>\n",
       "      <td>STON/O2. 3101282</td>\n",
       "      <td>7.9250</td>\n",
       "      <td>NaN</td>\n",
       "      <td>S</td>\n",
       "    </tr>\n",
       "  </tbody>\n",
       "</table>\n",
       "</div>"
      ],
      "text/plain": [
       "   PassengerId  Survived  Pclass  \\\n",
       "0            1         0       3   \n",
       "1            2         1       1   \n",
       "2            3         1       3   \n",
       "\n",
       "                                                  Name     Sex   Age  SibSp  \\\n",
       "0                              Braund, Mr. Owen Harris    male  22.0      1   \n",
       "1  Cumings, Mrs. John Bradley (Florence Briggs Thayer)  female  38.0      1   \n",
       "2                               Heikkinen, Miss. Laina  female  26.0      0   \n",
       "\n",
       "   Parch            Ticket     Fare Cabin Embarked  \n",
       "0      0         A/5 21171   7.2500   NaN        S  \n",
       "1      0          PC 17599  71.2833   C85        C  \n",
       "2      0  STON/O2. 3101282   7.9250   NaN        S  "
      ]
     },
     "execution_count": 19,
     "metadata": {},
     "output_type": "execute_result"
    }
   ],
   "source": [
    "df_google.head(3)"
   ]
  },
  {
   "cell_type": "markdown",
   "id": "56ba50b8-7744-406a-a4c4-fb9e7a28a5a3",
   "metadata": {},
   "source": [
    "- print the number of rows and columns"
   ]
  },
  {
   "cell_type": "code",
   "execution_count": 20,
   "id": "3e960cf5-5519-4402-b741-a69c2d3dc78c",
   "metadata": {},
   "outputs": [
    {
     "data": {
      "text/plain": [
       "(891, 12)"
      ]
     },
     "execution_count": 20,
     "metadata": {},
     "output_type": "execute_result"
    }
   ],
   "source": [
    "df_google.shape"
   ]
  },
  {
   "cell_type": "markdown",
   "id": "0c2a98da-3b2e-4547-9d79-a756ac6ec656",
   "metadata": {},
   "source": [
    "- print the column names"
   ]
  },
  {
   "cell_type": "code",
   "execution_count": 21,
   "id": "611915ff-ba75-44ae-9214-980f3cb456cc",
   "metadata": {},
   "outputs": [
    {
     "data": {
      "text/plain": [
       "['PassengerId',\n",
       " 'Survived',\n",
       " 'Pclass',\n",
       " 'Name',\n",
       " 'Sex',\n",
       " 'Age',\n",
       " 'SibSp',\n",
       " 'Parch',\n",
       " 'Ticket',\n",
       " 'Fare',\n",
       " 'Cabin',\n",
       " 'Embarked']"
      ]
     },
     "execution_count": 21,
     "metadata": {},
     "output_type": "execute_result"
    }
   ],
   "source": [
    "df_google.columns.tolist()"
   ]
  },
  {
   "cell_type": "markdown",
   "id": "be9d9619-7d09-43f2-9508-091cf010ccf1",
   "metadata": {},
   "source": [
    "- print the data type of each column"
   ]
  },
  {
   "cell_type": "code",
   "execution_count": 22,
   "id": "7790800c-e095-4a95-b55a-fd5601d3fc5c",
   "metadata": {},
   "outputs": [
    {
     "data": {
      "text/plain": [
       "PassengerId      int64\n",
       "Survived         int64\n",
       "Pclass           int64\n",
       "Name            object\n",
       "Sex             object\n",
       "Age            float64\n",
       "SibSp            int64\n",
       "Parch            int64\n",
       "Ticket          object\n",
       "Fare           float64\n",
       "Cabin           object\n",
       "Embarked        object\n",
       "dtype: object"
      ]
     },
     "execution_count": 22,
     "metadata": {},
     "output_type": "execute_result"
    }
   ],
   "source": [
    "df_google.dtypes"
   ]
  },
  {
   "cell_type": "markdown",
   "id": "b78bd5af-4937-4290-ba77-f83997fc7583",
   "metadata": {},
   "source": [
    "- print the summary statistics for each of the numeric variables"
   ]
  },
  {
   "cell_type": "code",
   "execution_count": 23,
   "id": "2b1da169-bfaf-4596-9eca-8101af0cccb0",
   "metadata": {},
   "outputs": [
    {
     "data": {
      "text/html": [
       "<div>\n",
       "<style scoped>\n",
       "    .dataframe tbody tr th:only-of-type {\n",
       "        vertical-align: middle;\n",
       "    }\n",
       "\n",
       "    .dataframe tbody tr th {\n",
       "        vertical-align: top;\n",
       "    }\n",
       "\n",
       "    .dataframe thead th {\n",
       "        text-align: right;\n",
       "    }\n",
       "</style>\n",
       "<table border=\"1\" class=\"dataframe\">\n",
       "  <thead>\n",
       "    <tr style=\"text-align: right;\">\n",
       "      <th></th>\n",
       "      <th>count</th>\n",
       "      <th>mean</th>\n",
       "      <th>std</th>\n",
       "      <th>min</th>\n",
       "      <th>25%</th>\n",
       "      <th>50%</th>\n",
       "      <th>75%</th>\n",
       "      <th>max</th>\n",
       "    </tr>\n",
       "  </thead>\n",
       "  <tbody>\n",
       "    <tr>\n",
       "      <th>PassengerId</th>\n",
       "      <td>891.0</td>\n",
       "      <td>446.000000</td>\n",
       "      <td>257.353842</td>\n",
       "      <td>1.00</td>\n",
       "      <td>223.5000</td>\n",
       "      <td>446.0000</td>\n",
       "      <td>668.5</td>\n",
       "      <td>891.0000</td>\n",
       "    </tr>\n",
       "    <tr>\n",
       "      <th>Survived</th>\n",
       "      <td>891.0</td>\n",
       "      <td>0.383838</td>\n",
       "      <td>0.486592</td>\n",
       "      <td>0.00</td>\n",
       "      <td>0.0000</td>\n",
       "      <td>0.0000</td>\n",
       "      <td>1.0</td>\n",
       "      <td>1.0000</td>\n",
       "    </tr>\n",
       "    <tr>\n",
       "      <th>Pclass</th>\n",
       "      <td>891.0</td>\n",
       "      <td>2.308642</td>\n",
       "      <td>0.836071</td>\n",
       "      <td>1.00</td>\n",
       "      <td>2.0000</td>\n",
       "      <td>3.0000</td>\n",
       "      <td>3.0</td>\n",
       "      <td>3.0000</td>\n",
       "    </tr>\n",
       "    <tr>\n",
       "      <th>Age</th>\n",
       "      <td>714.0</td>\n",
       "      <td>29.699118</td>\n",
       "      <td>14.526497</td>\n",
       "      <td>0.42</td>\n",
       "      <td>20.1250</td>\n",
       "      <td>28.0000</td>\n",
       "      <td>38.0</td>\n",
       "      <td>80.0000</td>\n",
       "    </tr>\n",
       "    <tr>\n",
       "      <th>SibSp</th>\n",
       "      <td>891.0</td>\n",
       "      <td>0.523008</td>\n",
       "      <td>1.102743</td>\n",
       "      <td>0.00</td>\n",
       "      <td>0.0000</td>\n",
       "      <td>0.0000</td>\n",
       "      <td>1.0</td>\n",
       "      <td>8.0000</td>\n",
       "    </tr>\n",
       "    <tr>\n",
       "      <th>Parch</th>\n",
       "      <td>891.0</td>\n",
       "      <td>0.381594</td>\n",
       "      <td>0.806057</td>\n",
       "      <td>0.00</td>\n",
       "      <td>0.0000</td>\n",
       "      <td>0.0000</td>\n",
       "      <td>0.0</td>\n",
       "      <td>6.0000</td>\n",
       "    </tr>\n",
       "    <tr>\n",
       "      <th>Fare</th>\n",
       "      <td>891.0</td>\n",
       "      <td>32.204208</td>\n",
       "      <td>49.693429</td>\n",
       "      <td>0.00</td>\n",
       "      <td>7.9104</td>\n",
       "      <td>14.4542</td>\n",
       "      <td>31.0</td>\n",
       "      <td>512.3292</td>\n",
       "    </tr>\n",
       "  </tbody>\n",
       "</table>\n",
       "</div>"
      ],
      "text/plain": [
       "             count        mean         std   min       25%       50%    75%  \\\n",
       "PassengerId  891.0  446.000000  257.353842  1.00  223.5000  446.0000  668.5   \n",
       "Survived     891.0    0.383838    0.486592  0.00    0.0000    0.0000    1.0   \n",
       "Pclass       891.0    2.308642    0.836071  1.00    2.0000    3.0000    3.0   \n",
       "Age          714.0   29.699118   14.526497  0.42   20.1250   28.0000   38.0   \n",
       "SibSp        891.0    0.523008    1.102743  0.00    0.0000    0.0000    1.0   \n",
       "Parch        891.0    0.381594    0.806057  0.00    0.0000    0.0000    0.0   \n",
       "Fare         891.0   32.204208   49.693429  0.00    7.9104   14.4542   31.0   \n",
       "\n",
       "                  max  \n",
       "PassengerId  891.0000  \n",
       "Survived       1.0000  \n",
       "Pclass         3.0000  \n",
       "Age           80.0000  \n",
       "SibSp          8.0000  \n",
       "Parch          6.0000  \n",
       "Fare         512.3292  "
      ]
     },
     "execution_count": 23,
     "metadata": {},
     "output_type": "execute_result"
    }
   ],
   "source": [
    "df_google.describe().T"
   ]
  },
  {
   "cell_type": "markdown",
   "id": "1c968d38-289c-48e5-a781-a17fcc055b4c",
   "metadata": {},
   "source": [
    "- print the unique values for each of your categorical variables\n",
    "\n",
    "**Row indices will be unique values for each categorical column below**"
   ]
  },
  {
   "cell_type": "code",
   "execution_count": 24,
   "id": "3fa9b512-7a07-4a36-bea4-438abb93b163",
   "metadata": {},
   "outputs": [
    {
     "data": {
      "text/plain": [
       "Index(['PassengerId', 'Survived', 'Pclass', 'Name', 'Sex', 'Age', 'SibSp',\n",
       "       'Parch', 'Ticket', 'Fare', 'Cabin', 'Embarked'],\n",
       "      dtype='object')"
      ]
     },
     "execution_count": 24,
     "metadata": {},
     "output_type": "execute_result"
    }
   ],
   "source": [
    "df_google.columns"
   ]
  },
  {
   "cell_type": "code",
   "execution_count": 25,
   "id": "4577d95b-4bef-4922-9b0d-ed6ad5183c75",
   "metadata": {},
   "outputs": [
    {
     "data": {
      "text/plain": [
       "0    549\n",
       "1    342\n",
       "Name: Survived, dtype: int64"
      ]
     },
     "execution_count": 25,
     "metadata": {},
     "output_type": "execute_result"
    }
   ],
   "source": [
    "df_google.Survived.value_counts()"
   ]
  },
  {
   "cell_type": "code",
   "execution_count": 26,
   "id": "c6c5b6e3-c829-41bd-92b3-ade05072f0fd",
   "metadata": {},
   "outputs": [
    {
     "data": {
      "text/plain": [
       "3    491\n",
       "1    216\n",
       "2    184\n",
       "Name: Pclass, dtype: int64"
      ]
     },
     "execution_count": 26,
     "metadata": {},
     "output_type": "execute_result"
    }
   ],
   "source": [
    "df_google.Pclass.value_counts()"
   ]
  },
  {
   "cell_type": "code",
   "execution_count": 27,
   "id": "4b19a7d3-ccda-401b-b675-2d627c113baa",
   "metadata": {},
   "outputs": [
    {
     "data": {
      "text/plain": [
       "male      577\n",
       "female    314\n",
       "Name: Sex, dtype: int64"
      ]
     },
     "execution_count": 27,
     "metadata": {},
     "output_type": "execute_result"
    }
   ],
   "source": [
    "df_google.Sex.value_counts()"
   ]
  },
  {
   "cell_type": "code",
   "execution_count": 28,
   "id": "c579d911-9f85-48fc-b0f4-822c37ddf505",
   "metadata": {},
   "outputs": [
    {
     "data": {
      "text/plain": [
       "0    608\n",
       "1    209\n",
       "2     28\n",
       "4     18\n",
       "3     16\n",
       "8      7\n",
       "5      5\n",
       "Name: SibSp, dtype: int64"
      ]
     },
     "execution_count": 28,
     "metadata": {},
     "output_type": "execute_result"
    }
   ],
   "source": [
    "df_google.SibSp.value_counts()"
   ]
  },
  {
   "cell_type": "code",
   "execution_count": 29,
   "id": "96a04c59-ceab-4fe2-b067-2d7006d92989",
   "metadata": {},
   "outputs": [
    {
     "data": {
      "text/plain": [
       "0    678\n",
       "1    118\n",
       "2     80\n",
       "3      5\n",
       "5      5\n",
       "4      4\n",
       "6      1\n",
       "Name: Parch, dtype: int64"
      ]
     },
     "execution_count": 29,
     "metadata": {},
     "output_type": "execute_result"
    }
   ],
   "source": [
    "df_google.Parch.value_counts()"
   ]
  },
  {
   "cell_type": "code",
   "execution_count": 30,
   "id": "d10af826-b5d3-485b-a968-9c02eb407f09",
   "metadata": {},
   "outputs": [
    {
     "data": {
      "text/plain": [
       "S    644\n",
       "C    168\n",
       "Q     77\n",
       "Name: Embarked, dtype: int64"
      ]
     },
     "execution_count": 30,
     "metadata": {},
     "output_type": "execute_result"
    }
   ],
   "source": [
    "df_google.Embarked.value_counts()"
   ]
  },
  {
   "cell_type": "code",
   "execution_count": 31,
   "id": "7bec001d-d39e-4359-8979-05cdd88261a5",
   "metadata": {},
   "outputs": [],
   "source": [
    "# seems like there should be a better way to do this one"
   ]
  },
  {
   "cell_type": "code",
   "execution_count": 32,
   "id": "cb7c1ea6-2950-4f30-be73-e44f3eeeedc7",
   "metadata": {},
   "outputs": [
    {
     "name": "stdout",
     "output_type": "stream",
     "text": [
      "<class 'pandas.core.frame.DataFrame'>\n",
      "RangeIndex: 891 entries, 0 to 890\n",
      "Data columns (total 12 columns):\n",
      " #   Column       Non-Null Count  Dtype  \n",
      "---  ------       --------------  -----  \n",
      " 0   PassengerId  891 non-null    int64  \n",
      " 1   Survived     891 non-null    int64  \n",
      " 2   Pclass       891 non-null    int64  \n",
      " 3   Name         891 non-null    object \n",
      " 4   Sex          891 non-null    object \n",
      " 5   Age          714 non-null    float64\n",
      " 6   SibSp        891 non-null    int64  \n",
      " 7   Parch        891 non-null    int64  \n",
      " 8   Ticket       891 non-null    object \n",
      " 9   Fare         891 non-null    float64\n",
      " 10  Cabin        204 non-null    object \n",
      " 11  Embarked     889 non-null    object \n",
      "dtypes: float64(2), int64(5), object(5)\n",
      "memory usage: 83.7+ KB\n"
     ]
    }
   ],
   "source": [
    "df_google.info()"
   ]
  },
  {
   "cell_type": "code",
   "execution_count": 33,
   "id": "d6977486-2a3d-428c-880f-533666e04ee0",
   "metadata": {},
   "outputs": [],
   "source": [
    "# could also do similar thing with .unique()"
   ]
  },
  {
   "cell_type": "code",
   "execution_count": 34,
   "id": "a58b0246-f94d-439b-aa75-052ee154d5b5",
   "metadata": {},
   "outputs": [
    {
     "data": {
      "text/plain": [
       "array([0, 1])"
      ]
     },
     "execution_count": 34,
     "metadata": {},
     "output_type": "execute_result"
    }
   ],
   "source": [
    "df_google.Survived.unique()"
   ]
  },
  {
   "cell_type": "code",
   "execution_count": 35,
   "id": "6c8ba4db-71f0-4762-96b2-8fdf57015f6a",
   "metadata": {},
   "outputs": [
    {
     "data": {
      "text/plain": [
       "array(['S', 'C', 'Q', nan], dtype=object)"
      ]
     },
     "execution_count": 35,
     "metadata": {},
     "output_type": "execute_result"
    }
   ],
   "source": [
    "df_google.Embarked.unique()"
   ]
  },
  {
   "cell_type": "code",
   "execution_count": 36,
   "id": "8e0cc653-d4d9-46c2-8375-f33c59bcee94",
   "metadata": {},
   "outputs": [
    {
     "name": "stdout",
     "output_type": "stream",
     "text": [
      "Values in the PassengerId column:\n",
      "1      1\n",
      "599    1\n",
      "588    1\n",
      "589    1\n",
      "590    1\n",
      "      ..\n",
      "301    1\n",
      "302    1\n",
      "303    1\n",
      "304    1\n",
      "891    1\n",
      "Name: PassengerId, Length: 891, dtype: int64\n",
      "------\n",
      "\n",
      "Values in the Survived column:\n",
      "0    549\n",
      "1    342\n",
      "Name: Survived, dtype: int64\n",
      "------\n",
      "\n",
      "Values in the Pclass column:\n",
      "3    491\n",
      "1    216\n",
      "2    184\n",
      "Name: Pclass, dtype: int64\n",
      "------\n",
      "\n",
      "Values in the Name column:\n",
      "Berriman, Mr. William John                      1\n",
      "Becker, Master. Richard F                       1\n",
      "Farthing, Mr. John                              1\n",
      "Hosono, Mr. Masabumi                            1\n",
      "Kilgannon, Mr. Thomas J                         1\n",
      "                                               ..\n",
      "O'Leary, Miss. Hanora \"Norah\"                   1\n",
      "de Messemaeker, Mrs. Guillaume Joseph (Emma)    1\n",
      "Alhomaki, Mr. Ilmari Rudolf                     1\n",
      "Molson, Mr. Harry Markland                      1\n",
      "Chapman, Mr. John Henry                         1\n",
      "Name: Name, Length: 891, dtype: int64\n",
      "------\n",
      "\n",
      "Values in the Sex column:\n",
      "male      577\n",
      "female    314\n",
      "Name: Sex, dtype: int64\n",
      "------\n",
      "\n",
      "Values in the SibSp column:\n",
      "0    608\n",
      "1    209\n",
      "2     28\n",
      "4     18\n",
      "3     16\n",
      "8      7\n",
      "5      5\n",
      "Name: SibSp, dtype: int64\n",
      "------\n",
      "\n",
      "Values in the Parch column:\n",
      "0    678\n",
      "1    118\n",
      "2     80\n",
      "3      5\n",
      "5      5\n",
      "4      4\n",
      "6      1\n",
      "Name: Parch, dtype: int64\n",
      "------\n",
      "\n",
      "Values in the Ticket column:\n",
      "347082       7\n",
      "1601         7\n",
      "CA. 2343     7\n",
      "CA 2144      6\n",
      "3101295      6\n",
      "            ..\n",
      "345778       1\n",
      "7267         1\n",
      "376566       1\n",
      "A/4 45380    1\n",
      "240929       1\n",
      "Name: Ticket, Length: 681, dtype: int64\n",
      "------\n",
      "\n",
      "Values in the Cabin column:\n",
      "G6                 4\n",
      "B96 B98            4\n",
      "C23 C25 C27        4\n",
      "C22 C26            3\n",
      "F33                3\n",
      "D                  3\n",
      "F2                 3\n",
      "E101               3\n",
      "C126               2\n",
      "C65                2\n",
      "D17                2\n",
      "D35                2\n",
      "E33                2\n",
      "E25                2\n",
      "E121               2\n",
      "D20                2\n",
      "C83                2\n",
      "B49                2\n",
      "C78                2\n",
      "B5                 2\n",
      "C2                 2\n",
      "B51 B53 B55        2\n",
      "F G73              2\n",
      "C52                2\n",
      "B22                2\n",
      "B57 B59 B63 B66    2\n",
      "E24                2\n",
      "D26                2\n",
      "B20                2\n",
      "C92                2\n",
      "C125               2\n",
      "C123               2\n",
      "B35                2\n",
      "C124               2\n",
      "E44                2\n",
      "B28                2\n",
      "D33                2\n",
      "D36                2\n",
      "B58 B60            2\n",
      "E8                 2\n",
      "E67                2\n",
      "C68                2\n",
      "F4                 2\n",
      "B77                2\n",
      "B18                2\n",
      "C93                2\n",
      "C99                1\n",
      "E63                1\n",
      "A7                 1\n",
      "B79                1\n",
      "C87                1\n",
      "A10                1\n",
      "E77                1\n",
      "A34                1\n",
      "B19                1\n",
      "B80                1\n",
      "B42                1\n",
      "B69                1\n",
      "E40                1\n",
      "B73                1\n",
      "F E69              1\n",
      "E49                1\n",
      "B50                1\n",
      "C32                1\n",
      "D7                 1\n",
      "D10 D12            1\n",
      "A26                1\n",
      "D11                1\n",
      "T                  1\n",
      "E17                1\n",
      "B30                1\n",
      "C45                1\n",
      "B102               1\n",
      "C7                 1\n",
      "B37                1\n",
      "C128               1\n",
      "D28                1\n",
      "F38                1\n",
      "C103               1\n",
      "B39                1\n",
      "C148               1\n",
      "D19                1\n",
      "B101               1\n",
      "A6                 1\n",
      "C54                1\n",
      "A23                1\n",
      "E12                1\n",
      "B71                1\n",
      "D47                1\n",
      "D48                1\n",
      "E58                1\n",
      "A5                 1\n",
      "E36                1\n",
      "A32                1\n",
      "B3                 1\n",
      "C110               1\n",
      "D15                1\n",
      "E46                1\n",
      "C30                1\n",
      "A24                1\n",
      "C101               1\n",
      "A36                1\n",
      "C62 C64            1\n",
      "C111               1\n",
      "C50                1\n",
      "A31                1\n",
      "A19                1\n",
      "F G63              1\n",
      "E68                1\n",
      "A16                1\n",
      "B4                 1\n",
      "C106               1\n",
      "D21                1\n",
      "D56                1\n",
      "B86                1\n",
      "D45                1\n",
      "B38                1\n",
      "C86                1\n",
      "D46                1\n",
      "C104               1\n",
      "C46                1\n",
      "C95                1\n",
      "E34                1\n",
      "B78                1\n",
      "B94                1\n",
      "E38                1\n",
      "C91                1\n",
      "C47                1\n",
      "A20                1\n",
      "C82                1\n",
      "C90                1\n",
      "C49                1\n",
      "C70                1\n",
      "C118               1\n",
      "D9                 1\n",
      "E10                1\n",
      "D49                1\n",
      "A14                1\n",
      "E31                1\n",
      "B82 B84            1\n",
      "D6                 1\n",
      "E50                1\n",
      "D37                1\n",
      "D50                1\n",
      "D30                1\n",
      "B41                1\n",
      "C85                1\n",
      "Name: Cabin, dtype: int64\n",
      "------\n",
      "\n",
      "Values in the Embarked column:\n",
      "S    644\n",
      "C    168\n",
      "Q     77\n",
      "Name: Embarked, dtype: int64\n",
      "------\n",
      "\n"
     ]
    }
   ],
   "source": [
    "# do this using a for loop looking for objects and ints since those are categorical in this df\n",
    "for column in df_google.select_dtypes(include=['object', 'int64']).columns:\n",
    "    print(f\"Values in the {column} column:\")\n",
    "    print(df_google[column].value_counts())\n",
    "    print(\"------\")\n",
    "    print()"
   ]
  },
  {
   "cell_type": "code",
   "execution_count": 37,
   "id": "6d30f123-cc4c-48e3-99ce-d0b7c2027038",
   "metadata": {},
   "outputs": [],
   "source": [
    "# validation that code for acquire.py is working properly\n",
    "\n",
    "# from env import host, user, password"
   ]
  },
  {
   "cell_type": "code",
   "execution_count": 38,
   "id": "f3f52e0c-9493-42a5-a193-d0cda2e17e7e",
   "metadata": {},
   "outputs": [],
   "source": [
    "# url = f'mysql+pymysql://{user}:{password}@{host}/titanic_db'\n",
    "# query = '''\n",
    "# select * from passengers;\n",
    "# '''\n",
    "# df = pd.read_sql(query, url)\n",
    "# df.head()"
   ]
  },
  {
   "cell_type": "code",
   "execution_count": 39,
   "id": "8b6a0b0c-02cf-4519-9b64-419b14e9889c",
   "metadata": {},
   "outputs": [],
   "source": [
    "# def get_titanic_data():\n",
    "#     from env import host, user, password # not sure if I should do this inside the function or outside\n",
    "#     url = f'mysql+pymysql://{user}:{password}@{host}/titanic_db'\n",
    "#     query = '''\n",
    "#     select * from passengers;\n",
    "#     '''\n",
    "#     df = pd.read_sql(query, url)\n",
    "#     return df"
   ]
  },
  {
   "cell_type": "code",
   "execution_count": 40,
   "id": "750d4035-13c5-4318-a9e8-3dca0b13e141",
   "metadata": {},
   "outputs": [],
   "source": [
    "# get_titanic_data() # seems to be working as intended"
   ]
  },
  {
   "cell_type": "code",
   "execution_count": 41,
   "id": "fec7680e-75a2-428f-9c70-02b615dab711",
   "metadata": {},
   "outputs": [],
   "source": [
    "# def get_iris_data():\n",
    "#     from env import host, user, password # not sure if I should do this inside the function or outside\n",
    "#     url = f'mysql+pymysql://{user}:{password}@{host}/iris_db'\n",
    "#     query = '''\n",
    "#     select * from measurements\n",
    "#     join species using(species_id);\n",
    "#     '''\n",
    "#     df = pd.read_sql(query, url)\n",
    "#     return df"
   ]
  },
  {
   "cell_type": "code",
   "execution_count": 42,
   "id": "c7d58e0a-14ba-496c-97b0-8c24cb9e6f34",
   "metadata": {},
   "outputs": [],
   "source": [
    "# get_iris_data()"
   ]
  },
  {
   "cell_type": "code",
   "execution_count": 43,
   "id": "ee600ec7-8885-4e52-aea8-ef49846f2e88",
   "metadata": {},
   "outputs": [],
   "source": [
    "# import os\n",
    "\n",
    "# def get_titanic_data():\n",
    "#     filename = \"titanic.csv\"\n",
    "\n",
    "#     if os.path.isfile(filename):\n",
    "#         return pd.read_csv(filename)\n",
    "#     else:\n",
    "#         # read the SQL query into a dataframe\n",
    "#         from env import host, user, password\n",
    "#         url = f'mysql+pymysql://{user}:{password}@{host}/titanic_db'\n",
    "#         query = '''\n",
    "#         select * from passengers;\n",
    "#         '''\n",
    "#         df = pd.read_sql(query, url)\n",
    "\n",
    "#         # Write that dataframe to disk for later. Called \"caching\" the data for later.\n",
    "#         df.to_csv(filename)\n",
    "\n",
    "#         # Return the dataframe to the calling code\n",
    "#         return df  "
   ]
  },
  {
   "cell_type": "code",
   "execution_count": 44,
   "id": "9ba70d4d-e2bf-4875-b2b8-8c3b49df0def",
   "metadata": {},
   "outputs": [],
   "source": [
    "# get_titanic_data()"
   ]
  },
  {
   "cell_type": "code",
   "execution_count": 45,
   "id": "f7ab8544-765e-4712-a223-963f044f5097",
   "metadata": {},
   "outputs": [],
   "source": [
    "# def get_iris_data():\n",
    "#     filename = \"iris.csv\"\n",
    "\n",
    "#     if os.path.isfile(filename):\n",
    "#         return pd.read_csv(filename)\n",
    "#     else:\n",
    "#         # read the SQL query into a dataframe\n",
    "#         from env import host, user, password # not sure if I should do this inside the function or outside\n",
    "#         url = f'mysql+pymysql://{user}:{password}@{host}/iris_db'\n",
    "#         query = '''\n",
    "#         select * from measurements\n",
    "#         join species using(species_id);\n",
    "#         '''\n",
    "#         df = pd.read_sql(query, url)\n",
    "\n",
    "#         # Write that dataframe to disk for later. Called \"caching\" the data for later.\n",
    "#         df.to_csv(filename)\n",
    "\n",
    "#         # Return the dataframe to the calling code\n",
    "#         return df  "
   ]
  },
  {
   "cell_type": "code",
   "execution_count": 46,
   "id": "9f24ae94-91fa-4355-8fb5-f03ef5f017f8",
   "metadata": {},
   "outputs": [],
   "source": [
    "# get_iris_data()"
   ]
  },
  {
   "cell_type": "markdown",
   "id": "f088f0f5-a8a2-4fc4-b83b-b4526f4fdc42",
   "metadata": {},
   "source": [
    "# Data Preparation "
   ]
  },
  {
   "cell_type": "code",
   "execution_count": 47,
   "id": "d0c446df-5ea0-4e93-b2f5-378f2a3feca4",
   "metadata": {},
   "outputs": [],
   "source": [
    "from acquire import get_iris_data"
   ]
  },
  {
   "cell_type": "markdown",
   "id": "a1e69e42-403f-49de-99ba-4873b3aa0631",
   "metadata": {},
   "source": [
    "The end product of this exercise should be the specified functions in a python script named prepare.py. Do these in your classification_exercises.ipynb first, then transfer to the prepare.py file."
   ]
  },
  {
   "cell_type": "markdown",
   "id": "d42137a1-ba1e-4aaa-b841-52eb76f34d52",
   "metadata": {},
   "source": [
    "Using the Iris Data:"
   ]
  },
  {
   "cell_type": "markdown",
   "id": "3d6846c3-e293-4467-8be9-609e1d1382ae",
   "metadata": {},
   "source": [
    "## 1."
   ]
  },
  {
   "cell_type": "markdown",
   "id": "049b96c1-0b85-439d-8b5f-8d55c6aee5f5",
   "metadata": {},
   "source": [
    "- Use the function defined in acquire.py to load the iris data."
   ]
  },
  {
   "cell_type": "code",
   "execution_count": 48,
   "id": "71fd6a47-1642-4d06-806a-ba410883adae",
   "metadata": {},
   "outputs": [
    {
     "data": {
      "text/html": [
       "<div>\n",
       "<style scoped>\n",
       "    .dataframe tbody tr th:only-of-type {\n",
       "        vertical-align: middle;\n",
       "    }\n",
       "\n",
       "    .dataframe tbody tr th {\n",
       "        vertical-align: top;\n",
       "    }\n",
       "\n",
       "    .dataframe thead th {\n",
       "        text-align: right;\n",
       "    }\n",
       "</style>\n",
       "<table border=\"1\" class=\"dataframe\">\n",
       "  <thead>\n",
       "    <tr style=\"text-align: right;\">\n",
       "      <th></th>\n",
       "      <th>species_id</th>\n",
       "      <th>species_name</th>\n",
       "      <th>sepal_length</th>\n",
       "      <th>sepal_width</th>\n",
       "      <th>petal_length</th>\n",
       "      <th>petal_width</th>\n",
       "    </tr>\n",
       "  </thead>\n",
       "  <tbody>\n",
       "    <tr>\n",
       "      <th>0</th>\n",
       "      <td>1</td>\n",
       "      <td>setosa</td>\n",
       "      <td>5.1</td>\n",
       "      <td>3.5</td>\n",
       "      <td>1.4</td>\n",
       "      <td>0.2</td>\n",
       "    </tr>\n",
       "    <tr>\n",
       "      <th>1</th>\n",
       "      <td>1</td>\n",
       "      <td>setosa</td>\n",
       "      <td>4.9</td>\n",
       "      <td>3.0</td>\n",
       "      <td>1.4</td>\n",
       "      <td>0.2</td>\n",
       "    </tr>\n",
       "    <tr>\n",
       "      <th>2</th>\n",
       "      <td>1</td>\n",
       "      <td>setosa</td>\n",
       "      <td>4.7</td>\n",
       "      <td>3.2</td>\n",
       "      <td>1.3</td>\n",
       "      <td>0.2</td>\n",
       "    </tr>\n",
       "    <tr>\n",
       "      <th>3</th>\n",
       "      <td>1</td>\n",
       "      <td>setosa</td>\n",
       "      <td>4.6</td>\n",
       "      <td>3.1</td>\n",
       "      <td>1.5</td>\n",
       "      <td>0.2</td>\n",
       "    </tr>\n",
       "    <tr>\n",
       "      <th>4</th>\n",
       "      <td>1</td>\n",
       "      <td>setosa</td>\n",
       "      <td>5.0</td>\n",
       "      <td>3.6</td>\n",
       "      <td>1.4</td>\n",
       "      <td>0.2</td>\n",
       "    </tr>\n",
       "  </tbody>\n",
       "</table>\n",
       "</div>"
      ],
      "text/plain": [
       "   species_id species_name  sepal_length  sepal_width  petal_length  \\\n",
       "0           1       setosa           5.1          3.5           1.4   \n",
       "1           1       setosa           4.9          3.0           1.4   \n",
       "2           1       setosa           4.7          3.2           1.3   \n",
       "3           1       setosa           4.6          3.1           1.5   \n",
       "4           1       setosa           5.0          3.6           1.4   \n",
       "\n",
       "   petal_width  \n",
       "0          0.2  \n",
       "1          0.2  \n",
       "2          0.2  \n",
       "3          0.2  \n",
       "4          0.2  "
      ]
     },
     "execution_count": 48,
     "metadata": {},
     "output_type": "execute_result"
    }
   ],
   "source": [
    "iris = get_iris_data()\n",
    "iris.head()"
   ]
  },
  {
   "cell_type": "markdown",
   "id": "c7da5364-08a9-459e-9eaf-78bf5dc83a38",
   "metadata": {},
   "source": [
    "## 2."
   ]
  },
  {
   "cell_type": "markdown",
   "id": "95871c30-b74d-461f-8565-a3636d3e1113",
   "metadata": {},
   "source": [
    "- Drop the species_id and measurement_id columns."
   ]
  },
  {
   "cell_type": "code",
   "execution_count": 49,
   "id": "05f8837b-f767-4b7e-8123-7380b7cc62aa",
   "metadata": {},
   "outputs": [
    {
     "data": {
      "text/html": [
       "<div>\n",
       "<style scoped>\n",
       "    .dataframe tbody tr th:only-of-type {\n",
       "        vertical-align: middle;\n",
       "    }\n",
       "\n",
       "    .dataframe tbody tr th {\n",
       "        vertical-align: top;\n",
       "    }\n",
       "\n",
       "    .dataframe thead th {\n",
       "        text-align: right;\n",
       "    }\n",
       "</style>\n",
       "<table border=\"1\" class=\"dataframe\">\n",
       "  <thead>\n",
       "    <tr style=\"text-align: right;\">\n",
       "      <th></th>\n",
       "      <th>species_name</th>\n",
       "      <th>sepal_length</th>\n",
       "      <th>sepal_width</th>\n",
       "      <th>petal_length</th>\n",
       "      <th>petal_width</th>\n",
       "    </tr>\n",
       "  </thead>\n",
       "  <tbody>\n",
       "    <tr>\n",
       "      <th>0</th>\n",
       "      <td>setosa</td>\n",
       "      <td>5.1</td>\n",
       "      <td>3.5</td>\n",
       "      <td>1.4</td>\n",
       "      <td>0.2</td>\n",
       "    </tr>\n",
       "    <tr>\n",
       "      <th>1</th>\n",
       "      <td>setosa</td>\n",
       "      <td>4.9</td>\n",
       "      <td>3.0</td>\n",
       "      <td>1.4</td>\n",
       "      <td>0.2</td>\n",
       "    </tr>\n",
       "    <tr>\n",
       "      <th>2</th>\n",
       "      <td>setosa</td>\n",
       "      <td>4.7</td>\n",
       "      <td>3.2</td>\n",
       "      <td>1.3</td>\n",
       "      <td>0.2</td>\n",
       "    </tr>\n",
       "    <tr>\n",
       "      <th>3</th>\n",
       "      <td>setosa</td>\n",
       "      <td>4.6</td>\n",
       "      <td>3.1</td>\n",
       "      <td>1.5</td>\n",
       "      <td>0.2</td>\n",
       "    </tr>\n",
       "    <tr>\n",
       "      <th>4</th>\n",
       "      <td>setosa</td>\n",
       "      <td>5.0</td>\n",
       "      <td>3.6</td>\n",
       "      <td>1.4</td>\n",
       "      <td>0.2</td>\n",
       "    </tr>\n",
       "  </tbody>\n",
       "</table>\n",
       "</div>"
      ],
      "text/plain": [
       "  species_name  sepal_length  sepal_width  petal_length  petal_width\n",
       "0       setosa           5.1          3.5           1.4          0.2\n",
       "1       setosa           4.9          3.0           1.4          0.2\n",
       "2       setosa           4.7          3.2           1.3          0.2\n",
       "3       setosa           4.6          3.1           1.5          0.2\n",
       "4       setosa           5.0          3.6           1.4          0.2"
      ]
     },
     "execution_count": 49,
     "metadata": {},
     "output_type": "execute_result"
    }
   ],
   "source": [
    "iris.drop(columns = ['species_id'], inplace = True)\n",
    "iris.head()"
   ]
  },
  {
   "cell_type": "markdown",
   "id": "46119343-6799-4f6e-babe-cde7aadbe313",
   "metadata": {},
   "source": [
    "## 3."
   ]
  },
  {
   "cell_type": "markdown",
   "id": "da9c4d56-544b-4a65-b825-420676833d87",
   "metadata": {},
   "source": [
    "- Rename the species_name column to just species."
   ]
  },
  {
   "cell_type": "code",
   "execution_count": 50,
   "id": "2f189e8d-780f-4c4e-9390-d4f8ca8f0061",
   "metadata": {},
   "outputs": [
    {
     "data": {
      "text/html": [
       "<div>\n",
       "<style scoped>\n",
       "    .dataframe tbody tr th:only-of-type {\n",
       "        vertical-align: middle;\n",
       "    }\n",
       "\n",
       "    .dataframe tbody tr th {\n",
       "        vertical-align: top;\n",
       "    }\n",
       "\n",
       "    .dataframe thead th {\n",
       "        text-align: right;\n",
       "    }\n",
       "</style>\n",
       "<table border=\"1\" class=\"dataframe\">\n",
       "  <thead>\n",
       "    <tr style=\"text-align: right;\">\n",
       "      <th></th>\n",
       "      <th>species</th>\n",
       "      <th>sepal_length</th>\n",
       "      <th>sepal_width</th>\n",
       "      <th>petal_length</th>\n",
       "      <th>petal_width</th>\n",
       "    </tr>\n",
       "  </thead>\n",
       "  <tbody>\n",
       "    <tr>\n",
       "      <th>0</th>\n",
       "      <td>setosa</td>\n",
       "      <td>5.1</td>\n",
       "      <td>3.5</td>\n",
       "      <td>1.4</td>\n",
       "      <td>0.2</td>\n",
       "    </tr>\n",
       "    <tr>\n",
       "      <th>1</th>\n",
       "      <td>setosa</td>\n",
       "      <td>4.9</td>\n",
       "      <td>3.0</td>\n",
       "      <td>1.4</td>\n",
       "      <td>0.2</td>\n",
       "    </tr>\n",
       "    <tr>\n",
       "      <th>2</th>\n",
       "      <td>setosa</td>\n",
       "      <td>4.7</td>\n",
       "      <td>3.2</td>\n",
       "      <td>1.3</td>\n",
       "      <td>0.2</td>\n",
       "    </tr>\n",
       "    <tr>\n",
       "      <th>3</th>\n",
       "      <td>setosa</td>\n",
       "      <td>4.6</td>\n",
       "      <td>3.1</td>\n",
       "      <td>1.5</td>\n",
       "      <td>0.2</td>\n",
       "    </tr>\n",
       "    <tr>\n",
       "      <th>4</th>\n",
       "      <td>setosa</td>\n",
       "      <td>5.0</td>\n",
       "      <td>3.6</td>\n",
       "      <td>1.4</td>\n",
       "      <td>0.2</td>\n",
       "    </tr>\n",
       "  </tbody>\n",
       "</table>\n",
       "</div>"
      ],
      "text/plain": [
       "  species  sepal_length  sepal_width  petal_length  petal_width\n",
       "0  setosa           5.1          3.5           1.4          0.2\n",
       "1  setosa           4.9          3.0           1.4          0.2\n",
       "2  setosa           4.7          3.2           1.3          0.2\n",
       "3  setosa           4.6          3.1           1.5          0.2\n",
       "4  setosa           5.0          3.6           1.4          0.2"
      ]
     },
     "execution_count": 50,
     "metadata": {},
     "output_type": "execute_result"
    }
   ],
   "source": [
    "iris = iris.rename(columns = {'species_name' : 'species'})\n",
    "iris.head()"
   ]
  },
  {
   "cell_type": "markdown",
   "id": "d8995a5d-1e62-4b05-976c-6e46089efc40",
   "metadata": {},
   "source": [
    "## 4."
   ]
  },
  {
   "cell_type": "markdown",
   "id": "a87470d7-dce3-4dae-910d-e6d474e9129d",
   "metadata": {},
   "source": [
    "- Create dummy variables of the species name."
   ]
  },
  {
   "cell_type": "code",
   "execution_count": 51,
   "id": "749b17ef-bf7a-4682-ad8e-c7859f3eaa93",
   "metadata": {},
   "outputs": [
    {
     "data": {
      "text/html": [
       "<div>\n",
       "<style scoped>\n",
       "    .dataframe tbody tr th:only-of-type {\n",
       "        vertical-align: middle;\n",
       "    }\n",
       "\n",
       "    .dataframe tbody tr th {\n",
       "        vertical-align: top;\n",
       "    }\n",
       "\n",
       "    .dataframe thead th {\n",
       "        text-align: right;\n",
       "    }\n",
       "</style>\n",
       "<table border=\"1\" class=\"dataframe\">\n",
       "  <thead>\n",
       "    <tr style=\"text-align: right;\">\n",
       "      <th></th>\n",
       "      <th>setosa</th>\n",
       "      <th>versicolor</th>\n",
       "      <th>virginica</th>\n",
       "    </tr>\n",
       "  </thead>\n",
       "  <tbody>\n",
       "    <tr>\n",
       "      <th>0</th>\n",
       "      <td>1</td>\n",
       "      <td>0</td>\n",
       "      <td>0</td>\n",
       "    </tr>\n",
       "    <tr>\n",
       "      <th>1</th>\n",
       "      <td>1</td>\n",
       "      <td>0</td>\n",
       "      <td>0</td>\n",
       "    </tr>\n",
       "    <tr>\n",
       "      <th>2</th>\n",
       "      <td>1</td>\n",
       "      <td>0</td>\n",
       "      <td>0</td>\n",
       "    </tr>\n",
       "    <tr>\n",
       "      <th>3</th>\n",
       "      <td>1</td>\n",
       "      <td>0</td>\n",
       "      <td>0</td>\n",
       "    </tr>\n",
       "    <tr>\n",
       "      <th>4</th>\n",
       "      <td>1</td>\n",
       "      <td>0</td>\n",
       "      <td>0</td>\n",
       "    </tr>\n",
       "  </tbody>\n",
       "</table>\n",
       "</div>"
      ],
      "text/plain": [
       "   setosa  versicolor  virginica\n",
       "0       1           0          0\n",
       "1       1           0          0\n",
       "2       1           0          0\n",
       "3       1           0          0\n",
       "4       1           0          0"
      ]
     },
     "execution_count": 51,
     "metadata": {},
     "output_type": "execute_result"
    }
   ],
   "source": [
    "# use pd.get_dummies. Returns a dataframe\n",
    "\n",
    "iris_dummy = pd.get_dummies(iris['species'], drop_first=False)\n",
    "\n",
    "iris_dummy.head()"
   ]
  },
  {
   "cell_type": "code",
   "execution_count": 52,
   "id": "abbb3733-86a0-4ad6-96ba-dff4751970d5",
   "metadata": {},
   "outputs": [
    {
     "data": {
      "text/html": [
       "<div>\n",
       "<style scoped>\n",
       "    .dataframe tbody tr th:only-of-type {\n",
       "        vertical-align: middle;\n",
       "    }\n",
       "\n",
       "    .dataframe tbody tr th {\n",
       "        vertical-align: top;\n",
       "    }\n",
       "\n",
       "    .dataframe thead th {\n",
       "        text-align: right;\n",
       "    }\n",
       "</style>\n",
       "<table border=\"1\" class=\"dataframe\">\n",
       "  <thead>\n",
       "    <tr style=\"text-align: right;\">\n",
       "      <th></th>\n",
       "      <th>species</th>\n",
       "      <th>sepal_length</th>\n",
       "      <th>sepal_width</th>\n",
       "      <th>petal_length</th>\n",
       "      <th>petal_width</th>\n",
       "      <th>setosa</th>\n",
       "      <th>versicolor</th>\n",
       "      <th>virginica</th>\n",
       "    </tr>\n",
       "  </thead>\n",
       "  <tbody>\n",
       "    <tr>\n",
       "      <th>0</th>\n",
       "      <td>setosa</td>\n",
       "      <td>5.1</td>\n",
       "      <td>3.5</td>\n",
       "      <td>1.4</td>\n",
       "      <td>0.2</td>\n",
       "      <td>1</td>\n",
       "      <td>0</td>\n",
       "      <td>0</td>\n",
       "    </tr>\n",
       "    <tr>\n",
       "      <th>1</th>\n",
       "      <td>setosa</td>\n",
       "      <td>4.9</td>\n",
       "      <td>3.0</td>\n",
       "      <td>1.4</td>\n",
       "      <td>0.2</td>\n",
       "      <td>1</td>\n",
       "      <td>0</td>\n",
       "      <td>0</td>\n",
       "    </tr>\n",
       "    <tr>\n",
       "      <th>2</th>\n",
       "      <td>setosa</td>\n",
       "      <td>4.7</td>\n",
       "      <td>3.2</td>\n",
       "      <td>1.3</td>\n",
       "      <td>0.2</td>\n",
       "      <td>1</td>\n",
       "      <td>0</td>\n",
       "      <td>0</td>\n",
       "    </tr>\n",
       "    <tr>\n",
       "      <th>3</th>\n",
       "      <td>setosa</td>\n",
       "      <td>4.6</td>\n",
       "      <td>3.1</td>\n",
       "      <td>1.5</td>\n",
       "      <td>0.2</td>\n",
       "      <td>1</td>\n",
       "      <td>0</td>\n",
       "      <td>0</td>\n",
       "    </tr>\n",
       "    <tr>\n",
       "      <th>4</th>\n",
       "      <td>setosa</td>\n",
       "      <td>5.0</td>\n",
       "      <td>3.6</td>\n",
       "      <td>1.4</td>\n",
       "      <td>0.2</td>\n",
       "      <td>1</td>\n",
       "      <td>0</td>\n",
       "      <td>0</td>\n",
       "    </tr>\n",
       "  </tbody>\n",
       "</table>\n",
       "</div>"
      ],
      "text/plain": [
       "  species  sepal_length  sepal_width  petal_length  petal_width  setosa  \\\n",
       "0  setosa           5.1          3.5           1.4          0.2       1   \n",
       "1  setosa           4.9          3.0           1.4          0.2       1   \n",
       "2  setosa           4.7          3.2           1.3          0.2       1   \n",
       "3  setosa           4.6          3.1           1.5          0.2       1   \n",
       "4  setosa           5.0          3.6           1.4          0.2       1   \n",
       "\n",
       "   versicolor  virginica  \n",
       "0           0          0  \n",
       "1           0          0  \n",
       "2           0          0  \n",
       "3           0          0  \n",
       "4           0          0  "
      ]
     },
     "execution_count": 52,
     "metadata": {},
     "output_type": "execute_result"
    }
   ],
   "source": [
    "# append dummy df cols to the original df. \n",
    "\n",
    "iris = pd.concat([iris, iris_dummy], axis = 1)\n",
    "\n",
    "iris.head()"
   ]
  },
  {
   "cell_type": "markdown",
   "id": "800f5649-bf20-4b36-b4a6-80dcff3880e6",
   "metadata": {},
   "source": [
    "## 5."
   ]
  },
  {
   "cell_type": "markdown",
   "id": "048dc3e0-02c3-4aff-8611-2eeb1abbccb0",
   "metadata": {},
   "source": [
    "- Create a function named prep_iris that accepts the untransformed iris data, and returns the data with the transformations above applied."
   ]
  },
  {
   "cell_type": "code",
   "execution_count": 53,
   "id": "53c831ad-93dc-45ec-bf4d-14db8411a54e",
   "metadata": {},
   "outputs": [],
   "source": [
    "def prep_iris(df): # I will pass the unprepped df into the function\n",
    "    df.drop(columns = ['species_id'], inplace = True)\n",
    "    df = df.rename(columns = {'species_name' : 'species'})\n",
    "    df_dummy = pd.get_dummies(df['species'], drop_first=False)\n",
    "    df = pd.concat([df, df_dummy], axis = 1)\n",
    "    return df"
   ]
  },
  {
   "cell_type": "code",
   "execution_count": 54,
   "id": "af22c670-56b1-4d77-9cc5-5ab4dad05d02",
   "metadata": {},
   "outputs": [
    {
     "data": {
      "text/html": [
       "<div>\n",
       "<style scoped>\n",
       "    .dataframe tbody tr th:only-of-type {\n",
       "        vertical-align: middle;\n",
       "    }\n",
       "\n",
       "    .dataframe tbody tr th {\n",
       "        vertical-align: top;\n",
       "    }\n",
       "\n",
       "    .dataframe thead th {\n",
       "        text-align: right;\n",
       "    }\n",
       "</style>\n",
       "<table border=\"1\" class=\"dataframe\">\n",
       "  <thead>\n",
       "    <tr style=\"text-align: right;\">\n",
       "      <th></th>\n",
       "      <th>species_id</th>\n",
       "      <th>species_name</th>\n",
       "      <th>sepal_length</th>\n",
       "      <th>sepal_width</th>\n",
       "      <th>petal_length</th>\n",
       "      <th>petal_width</th>\n",
       "    </tr>\n",
       "  </thead>\n",
       "  <tbody>\n",
       "    <tr>\n",
       "      <th>0</th>\n",
       "      <td>1</td>\n",
       "      <td>setosa</td>\n",
       "      <td>5.1</td>\n",
       "      <td>3.5</td>\n",
       "      <td>1.4</td>\n",
       "      <td>0.2</td>\n",
       "    </tr>\n",
       "    <tr>\n",
       "      <th>1</th>\n",
       "      <td>1</td>\n",
       "      <td>setosa</td>\n",
       "      <td>4.9</td>\n",
       "      <td>3.0</td>\n",
       "      <td>1.4</td>\n",
       "      <td>0.2</td>\n",
       "    </tr>\n",
       "    <tr>\n",
       "      <th>2</th>\n",
       "      <td>1</td>\n",
       "      <td>setosa</td>\n",
       "      <td>4.7</td>\n",
       "      <td>3.2</td>\n",
       "      <td>1.3</td>\n",
       "      <td>0.2</td>\n",
       "    </tr>\n",
       "    <tr>\n",
       "      <th>3</th>\n",
       "      <td>1</td>\n",
       "      <td>setosa</td>\n",
       "      <td>4.6</td>\n",
       "      <td>3.1</td>\n",
       "      <td>1.5</td>\n",
       "      <td>0.2</td>\n",
       "    </tr>\n",
       "    <tr>\n",
       "      <th>4</th>\n",
       "      <td>1</td>\n",
       "      <td>setosa</td>\n",
       "      <td>5.0</td>\n",
       "      <td>3.6</td>\n",
       "      <td>1.4</td>\n",
       "      <td>0.2</td>\n",
       "    </tr>\n",
       "  </tbody>\n",
       "</table>\n",
       "</div>"
      ],
      "text/plain": [
       "   species_id species_name  sepal_length  sepal_width  petal_length  \\\n",
       "0           1       setosa           5.1          3.5           1.4   \n",
       "1           1       setosa           4.9          3.0           1.4   \n",
       "2           1       setosa           4.7          3.2           1.3   \n",
       "3           1       setosa           4.6          3.1           1.5   \n",
       "4           1       setosa           5.0          3.6           1.4   \n",
       "\n",
       "   petal_width  \n",
       "0          0.2  \n",
       "1          0.2  \n",
       "2          0.2  \n",
       "3          0.2  \n",
       "4          0.2  "
      ]
     },
     "execution_count": 54,
     "metadata": {},
     "output_type": "execute_result"
    }
   ],
   "source": [
    "iris = get_iris_data()\n",
    "iris.head()"
   ]
  },
  {
   "cell_type": "code",
   "execution_count": 55,
   "id": "1cfdf185-7954-4fc6-87b3-61f16b89599e",
   "metadata": {},
   "outputs": [],
   "source": [
    "df = prep_iris(iris)"
   ]
  },
  {
   "cell_type": "code",
   "execution_count": 56,
   "id": "740ad286-f87e-40e3-9352-a2e7a2ebe91a",
   "metadata": {},
   "outputs": [
    {
     "data": {
      "text/html": [
       "<div>\n",
       "<style scoped>\n",
       "    .dataframe tbody tr th:only-of-type {\n",
       "        vertical-align: middle;\n",
       "    }\n",
       "\n",
       "    .dataframe tbody tr th {\n",
       "        vertical-align: top;\n",
       "    }\n",
       "\n",
       "    .dataframe thead th {\n",
       "        text-align: right;\n",
       "    }\n",
       "</style>\n",
       "<table border=\"1\" class=\"dataframe\">\n",
       "  <thead>\n",
       "    <tr style=\"text-align: right;\">\n",
       "      <th></th>\n",
       "      <th>species</th>\n",
       "      <th>sepal_length</th>\n",
       "      <th>sepal_width</th>\n",
       "      <th>petal_length</th>\n",
       "      <th>petal_width</th>\n",
       "      <th>setosa</th>\n",
       "      <th>versicolor</th>\n",
       "      <th>virginica</th>\n",
       "    </tr>\n",
       "  </thead>\n",
       "  <tbody>\n",
       "    <tr>\n",
       "      <th>0</th>\n",
       "      <td>setosa</td>\n",
       "      <td>5.1</td>\n",
       "      <td>3.5</td>\n",
       "      <td>1.4</td>\n",
       "      <td>0.2</td>\n",
       "      <td>1</td>\n",
       "      <td>0</td>\n",
       "      <td>0</td>\n",
       "    </tr>\n",
       "    <tr>\n",
       "      <th>1</th>\n",
       "      <td>setosa</td>\n",
       "      <td>4.9</td>\n",
       "      <td>3.0</td>\n",
       "      <td>1.4</td>\n",
       "      <td>0.2</td>\n",
       "      <td>1</td>\n",
       "      <td>0</td>\n",
       "      <td>0</td>\n",
       "    </tr>\n",
       "    <tr>\n",
       "      <th>2</th>\n",
       "      <td>setosa</td>\n",
       "      <td>4.7</td>\n",
       "      <td>3.2</td>\n",
       "      <td>1.3</td>\n",
       "      <td>0.2</td>\n",
       "      <td>1</td>\n",
       "      <td>0</td>\n",
       "      <td>0</td>\n",
       "    </tr>\n",
       "    <tr>\n",
       "      <th>3</th>\n",
       "      <td>setosa</td>\n",
       "      <td>4.6</td>\n",
       "      <td>3.1</td>\n",
       "      <td>1.5</td>\n",
       "      <td>0.2</td>\n",
       "      <td>1</td>\n",
       "      <td>0</td>\n",
       "      <td>0</td>\n",
       "    </tr>\n",
       "    <tr>\n",
       "      <th>4</th>\n",
       "      <td>setosa</td>\n",
       "      <td>5.0</td>\n",
       "      <td>3.6</td>\n",
       "      <td>1.4</td>\n",
       "      <td>0.2</td>\n",
       "      <td>1</td>\n",
       "      <td>0</td>\n",
       "      <td>0</td>\n",
       "    </tr>\n",
       "  </tbody>\n",
       "</table>\n",
       "</div>"
      ],
      "text/plain": [
       "  species  sepal_length  sepal_width  petal_length  petal_width  setosa  \\\n",
       "0  setosa           5.1          3.5           1.4          0.2       1   \n",
       "1  setosa           4.9          3.0           1.4          0.2       1   \n",
       "2  setosa           4.7          3.2           1.3          0.2       1   \n",
       "3  setosa           4.6          3.1           1.5          0.2       1   \n",
       "4  setosa           5.0          3.6           1.4          0.2       1   \n",
       "\n",
       "   versicolor  virginica  \n",
       "0           0          0  \n",
       "1           0          0  \n",
       "2           0          0  \n",
       "3           0          0  \n",
       "4           0          0  "
      ]
     },
     "execution_count": 56,
     "metadata": {},
     "output_type": "execute_result"
    }
   ],
   "source": [
    "df.head()"
   ]
  },
  {
   "cell_type": "markdown",
   "id": "9efcfb3e-f77c-46f4-9f43-fadd910b2d4a",
   "metadata": {},
   "source": [
    "# Exploratory Analysis"
   ]
  },
  {
   "cell_type": "code",
   "execution_count": 104,
   "id": "4156ae1e-1da8-4d71-9aef-b75c08ebef29",
   "metadata": {},
   "outputs": [],
   "source": [
    "from sklearn.model_selection import train_test_split # will use this to split data\n",
    "import explore # will use this to do exploration of data\n",
    "import prep_iris"
   ]
  },
  {
   "cell_type": "markdown",
   "id": "e3e1022f-92c2-4ce7-a78a-3bd121eccc48",
   "metadata": {},
   "source": [
    "## 1."
   ]
  },
  {
   "cell_type": "markdown",
   "id": "ec06b04f-b058-4c6d-b9f9-960e5381f329",
   "metadata": {},
   "source": [
    "Acquire, prepare & split your data."
   ]
  },
  {
   "cell_type": "code",
   "execution_count": 105,
   "id": "a97ba8a1-485d-423e-a7b0-3db4f77ae307",
   "metadata": {},
   "outputs": [
    {
     "data": {
      "text/html": [
       "<div>\n",
       "<style scoped>\n",
       "    .dataframe tbody tr th:only-of-type {\n",
       "        vertical-align: middle;\n",
       "    }\n",
       "\n",
       "    .dataframe tbody tr th {\n",
       "        vertical-align: top;\n",
       "    }\n",
       "\n",
       "    .dataframe thead th {\n",
       "        text-align: right;\n",
       "    }\n",
       "</style>\n",
       "<table border=\"1\" class=\"dataframe\">\n",
       "  <thead>\n",
       "    <tr style=\"text-align: right;\">\n",
       "      <th></th>\n",
       "      <th>species_id</th>\n",
       "      <th>species_name</th>\n",
       "      <th>sepal_length</th>\n",
       "      <th>sepal_width</th>\n",
       "      <th>petal_length</th>\n",
       "      <th>petal_width</th>\n",
       "    </tr>\n",
       "  </thead>\n",
       "  <tbody>\n",
       "    <tr>\n",
       "      <th>0</th>\n",
       "      <td>1</td>\n",
       "      <td>setosa</td>\n",
       "      <td>5.1</td>\n",
       "      <td>3.5</td>\n",
       "      <td>1.4</td>\n",
       "      <td>0.2</td>\n",
       "    </tr>\n",
       "    <tr>\n",
       "      <th>1</th>\n",
       "      <td>1</td>\n",
       "      <td>setosa</td>\n",
       "      <td>4.9</td>\n",
       "      <td>3.0</td>\n",
       "      <td>1.4</td>\n",
       "      <td>0.2</td>\n",
       "    </tr>\n",
       "    <tr>\n",
       "      <th>2</th>\n",
       "      <td>1</td>\n",
       "      <td>setosa</td>\n",
       "      <td>4.7</td>\n",
       "      <td>3.2</td>\n",
       "      <td>1.3</td>\n",
       "      <td>0.2</td>\n",
       "    </tr>\n",
       "    <tr>\n",
       "      <th>3</th>\n",
       "      <td>1</td>\n",
       "      <td>setosa</td>\n",
       "      <td>4.6</td>\n",
       "      <td>3.1</td>\n",
       "      <td>1.5</td>\n",
       "      <td>0.2</td>\n",
       "    </tr>\n",
       "    <tr>\n",
       "      <th>4</th>\n",
       "      <td>1</td>\n",
       "      <td>setosa</td>\n",
       "      <td>5.0</td>\n",
       "      <td>3.6</td>\n",
       "      <td>1.4</td>\n",
       "      <td>0.2</td>\n",
       "    </tr>\n",
       "  </tbody>\n",
       "</table>\n",
       "</div>"
      ],
      "text/plain": [
       "   species_id species_name  sepal_length  sepal_width  petal_length  \\\n",
       "0           1       setosa           5.1          3.5           1.4   \n",
       "1           1       setosa           4.9          3.0           1.4   \n",
       "2           1       setosa           4.7          3.2           1.3   \n",
       "3           1       setosa           4.6          3.1           1.5   \n",
       "4           1       setosa           5.0          3.6           1.4   \n",
       "\n",
       "   petal_width  \n",
       "0          0.2  \n",
       "1          0.2  \n",
       "2          0.2  \n",
       "3          0.2  \n",
       "4          0.2  "
      ]
     },
     "execution_count": 105,
     "metadata": {},
     "output_type": "execute_result"
    }
   ],
   "source": [
    "# acquire data\n",
    "iris = get_iris_data()\n",
    "iris.head()"
   ]
  },
  {
   "cell_type": "code",
   "execution_count": 89,
   "id": "29d6bc95-de9a-476b-ab0e-0b3f18456a4f",
   "metadata": {},
   "outputs": [],
   "source": [
    "# prepare data\n",
    "\n",
    "def clean_iris(df): # I will pass the unprepped df into the function\n",
    "    \"\"\"\n",
    "    Cleans data in preparation for splitting\n",
    "    \"\"\"\n",
    "    df.drop(columns = ['species_id'], inplace = True)\n",
    "    df = df.rename(columns = {'species_name' : 'species'})\n",
    "    df_dummy = pd.get_dummies(df['species'], drop_first=True)\n",
    "    df = pd.concat([df, df_dummy], axis = 1)\n",
    "    return df"
   ]
  },
  {
   "cell_type": "code",
   "execution_count": 90,
   "id": "159f57f9-8be1-466a-beae-ffd7a9fac633",
   "metadata": {},
   "outputs": [],
   "source": [
    "def split_iris(df):\n",
    "    \"\"\"\n",
    "    splits the data in train validate and test \n",
    "    \"\"\"\n",
    "    train_validate, test = train_test_split(df, test_size = 0.2, random_state = 123, stratify = df.species)\n",
    "    train, validate = train_test_split(train_validate, test_size = 0.25, random_state = 123, stratify = train_validate.species)\n",
    "    \n",
    "    return train, validate, test"
   ]
  },
  {
   "cell_type": "code",
   "execution_count": 91,
   "id": "924cc2c6-a350-469e-bb4c-4756d90a5b3a",
   "metadata": {},
   "outputs": [],
   "source": [
    "def prep_iris(df):\n",
    "    \"\"\"\n",
    "    takes in a data from iris database, cleans the data, splits the data\n",
    "    in train validate test \n",
    "    Returns three dataframes train, validate and test.\n",
    "    \"\"\"\n",
    "    df = clean_iris(df)\n",
    "    train, validate, test = split_iris(df)\n",
    "    return train, validate, test"
   ]
  },
  {
   "cell_type": "code",
   "execution_count": 92,
   "id": "c3d775a7-9d7d-4aed-b4c6-4d7b6d72d1a3",
   "metadata": {},
   "outputs": [],
   "source": [
    "train, validate, test = prep_iris(iris)"
   ]
  },
  {
   "cell_type": "code",
   "execution_count": 95,
   "id": "f7501c80-20f9-4e03-b170-4bb0a46c43a4",
   "metadata": {
    "tags": []
   },
   "outputs": [
    {
     "data": {
      "text/plain": [
       "((90, 7), (30, 7), (30, 7))"
      ]
     },
     "execution_count": 95,
     "metadata": {},
     "output_type": "execute_result"
    }
   ],
   "source": [
    "train.shape, validate.shape, test.shape"
   ]
  },
  {
   "cell_type": "code",
   "execution_count": 106,
   "id": "ccb48cf1-13e1-44c9-aec2-fdc2444b6ded",
   "metadata": {},
   "outputs": [],
   "source": [
    "train, validate, test = prep_iris.prep_iris(iris)"
   ]
  },
  {
   "cell_type": "code",
   "execution_count": 107,
   "id": "27cea584-5821-4855-8d0d-424190fe7314",
   "metadata": {},
   "outputs": [
    {
     "data": {
      "text/plain": [
       "((90, 7), (30, 7), (30, 7))"
      ]
     },
     "execution_count": 107,
     "metadata": {},
     "output_type": "execute_result"
    }
   ],
   "source": [
    "train.shape, validate.shape, test.shape"
   ]
  },
  {
   "cell_type": "markdown",
   "id": "3dd9ecbf-20c7-4b14-bfef-86ed694a347e",
   "metadata": {},
   "source": [
    "## 2."
   ]
  },
  {
   "cell_type": "markdown",
   "id": "5d7e1483-0dab-4a11-a6af-087cd660536c",
   "metadata": {},
   "source": [
    "Univariate Stats"
   ]
  },
  {
   "cell_type": "code",
   "execution_count": 109,
   "id": "b64486f3-ef68-49dd-8684-9ef53fc800a9",
   "metadata": {},
   "outputs": [
    {
     "name": "stdout",
     "output_type": "stream",
     "text": [
      "<class 'pandas.core.frame.DataFrame'>\n",
      "Int64Index: 90 entries, 70 to 97\n",
      "Data columns (total 7 columns):\n",
      " #   Column        Non-Null Count  Dtype  \n",
      "---  ------        --------------  -----  \n",
      " 0   species       90 non-null     object \n",
      " 1   sepal_length  90 non-null     float64\n",
      " 2   sepal_width   90 non-null     float64\n",
      " 3   petal_length  90 non-null     float64\n",
      " 4   petal_width   90 non-null     float64\n",
      " 5   versicolor    90 non-null     uint8  \n",
      " 6   virginica     90 non-null     uint8  \n",
      "dtypes: float64(4), object(1), uint8(2)\n",
      "memory usage: 4.4+ KB\n"
     ]
    }
   ],
   "source": [
    "# take a look at dtypes for each column\n",
    "train.info()"
   ]
  },
  {
   "cell_type": "code",
   "execution_count": 111,
   "id": "8c4251da-7efd-4f9f-9e9b-34d7e01c654a",
   "metadata": {},
   "outputs": [
    {
     "data": {
      "text/plain": [
       "['sepal_length', 'sepal_width', 'petal_length', 'petal_width']"
      ]
     },
     "execution_count": 111,
     "metadata": {},
     "output_type": "execute_result"
    }
   ],
   "source": [
    "# create a list of quantitative variables to pass into univariate exploration function\n",
    "quant_vars = train.select_dtypes(include = 'float').columns.tolist()\n",
    "quant_vars"
   ]
  },
  {
   "cell_type": "code",
   "execution_count": 147,
   "id": "2ac9631c-a00b-4416-ad10-33f4c4a49633",
   "metadata": {},
   "outputs": [
    {
     "data": {
      "text/plain": [
       "['species']"
      ]
     },
     "execution_count": 147,
     "metadata": {},
     "output_type": "execute_result"
    }
   ],
   "source": [
    "cat_vars = train.select_dtypes(include = 'object').columns.tolist()\n",
    "cat_vars"
   ]
  },
  {
   "cell_type": "markdown",
   "id": "b0456e65-bd24-4402-8a40-9daede68e939",
   "metadata": {},
   "source": [
    "- For each measurement type (quantitative variable): create a histogram, boxplot, & compute descriptive statistics (using .describe()).\n",
    "- For each species (categorical variable): create a frequency table and a bar plot of those frequencies."
   ]
  },
  {
   "cell_type": "code",
   "execution_count": 121,
   "id": "5de3e8ea-5c63-408a-8fcf-5f758a397da1",
   "metadata": {
    "tags": []
   },
   "outputs": [
    {
     "data": {
      "image/png": "[encoded data removed]",
      "text/plain": [
       "<Figure size 144x144 with 1 Axes>"
      ]
     },
     "metadata": {
      "needs_background": "light"
     },
     "output_type": "display_data"
    },
    {
     "name": "stdout",
     "output_type": "stream",
     "text": [
      "               species  Count  Percent\n",
      "versicolor  versicolor     30    33.33\n",
      "setosa       virginica     30    33.33\n",
      "virginica       setosa     30    33.33\n",
      "_________________________________________________________________\n"
     ]
    },
    {
     "data": {
      "image/png": "[encoded data removed]",
      "text/plain": [
       "<Figure size 576x144 with 2 Axes>"
      ]
     },
     "metadata": {
      "needs_background": "light"
     },
     "output_type": "display_data"
    },
    {
     "name": "stdout",
     "output_type": "stream",
     "text": [
      "count    90.000000\n",
      "mean      5.875556\n",
      "std       0.792282\n",
      "min       4.400000\n",
      "25%       5.225000\n",
      "50%       5.800000\n",
      "75%       6.400000\n",
      "max       7.900000\n",
      "Name: sepal_length, dtype: float64\n"
     ]
    },
    {
     "data": {
      "image/png": "[encoded data removed]",
      "text/plain": [
       "<Figure size 576x144 with 2 Axes>"
      ]
     },
     "metadata": {
      "needs_background": "light"
     },
     "output_type": "display_data"
    },
    {
     "name": "stdout",
     "output_type": "stream",
     "text": [
      "count    90.000000\n",
      "mean      3.070000\n",
      "std       0.436135\n",
      "min       2.200000\n",
      "25%       2.800000\n",
      "50%       3.000000\n",
      "75%       3.375000\n",
      "max       4.400000\n",
      "Name: sepal_width, dtype: float64\n"
     ]
    },
    {
     "data": {
      "image/png": "[encoded data removed]",
      "text/plain": [
       "<Figure size 576x144 with 2 Axes>"
      ]
     },
     "metadata": {
      "needs_background": "light"
     },
     "output_type": "display_data"
    },
    {
     "name": "stdout",
     "output_type": "stream",
     "text": [
      "count    90.000000\n",
      "mean      3.782222\n",
      "std       1.742114\n",
      "min       1.200000\n",
      "25%       1.600000\n",
      "50%       4.250000\n",
      "75%       5.100000\n",
      "max       6.900000\n",
      "Name: petal_length, dtype: float64\n"
     ]
    },
    {
     "data": {
      "image/png": "[encoded data removed]",
      "text/plain": [
       "<Figure size 576x144 with 2 Axes>"
      ]
     },
     "metadata": {
      "needs_background": "light"
     },
     "output_type": "display_data"
    },
    {
     "name": "stdout",
     "output_type": "stream",
     "text": [
      "count    90.000000\n",
      "mean      1.203333\n",
      "std       0.755422\n",
      "min       0.100000\n",
      "25%       0.400000\n",
      "50%       1.300000\n",
      "75%       1.800000\n",
      "max       2.500000\n",
      "Name: petal_width, dtype: float64\n"
     ]
    }
   ],
   "source": [
    "# this function will provide all histograms, boxplots, and descriptive stats for all quant vars\n",
    "# it also provides the bar plot and frequency table for the cat var\n",
    "explore.explore_univariate(train, cat_vars, quant_vars)"
   ]
  },
  {
   "cell_type": "markdown",
   "id": "21c4adef-3b21-492d-ae19-1a60e64330a4",
   "metadata": {},
   "source": [
    "- Document takeaways & any actions."
   ]
  },
  {
   "cell_type": "markdown",
   "id": "e84dc34c-3e02-4406-bff4-40af5a8a4cb2",
   "metadata": {},
   "source": [
    "    - Histograms look multimodal (might be 3 normal distributions for each of the 3 species)\n",
    "    - There is an outlier in sepal width\n",
    "    - Petal length has highest standard deviation"
   ]
  },
  {
   "cell_type": "markdown",
   "id": "fa73b206-c401-4576-99f0-ebed5aac290d",
   "metadata": {},
   "source": [
    "## 3."
   ]
  },
  {
   "cell_type": "markdown",
   "id": "6cca580e-3289-40a0-a06f-de8e63369d75",
   "metadata": {},
   "source": [
    "Bivariate Stats"
   ]
  },
  {
   "cell_type": "markdown",
   "id": "ffe73cc5-3be8-4861-8e5a-4ffc1c159aa4",
   "metadata": {},
   "source": [
    "- Visualize each measurement type (y-axis) with the species variable (x-axis) using barplots, adding a horizontal line showing the overall mean of the metric (y-axis).\n",
    "- For each measurement type, compute the descriptive statistics for each species."
   ]
  },
  {
   "cell_type": "code",
   "execution_count": 152,
   "id": "9e65e6fa-59ad-4acd-8a2e-a393b3e846d2",
   "metadata": {},
   "outputs": [
    {
     "data": {
      "text/plain": [
       "[]"
      ]
     },
     "execution_count": 152,
     "metadata": {},
     "output_type": "execute_result"
    }
   ],
   "source": [
    "# remove the target variable from our list of cat vars\n",
    "cat_vars = cat_vars[1:]\n",
    "cat_vars"
   ]
  },
  {
   "cell_type": "code",
   "execution_count": 153,
   "id": "51020e60-f3ba-4f87-b955-e37ab2b054b3",
   "metadata": {},
   "outputs": [
    {
     "name": "stdout",
     "output_type": "stream",
     "text": [
      "sepal_length \n",
      "____________________\n",
      "\n"
     ]
    },
    {
     "data": {
      "image/png": "[encoded data removed]",
      "text/plain": [
       "<Figure size 288x288 with 1 Axes>"
      ]
     },
     "metadata": {
      "needs_background": "light"
     },
     "output_type": "display_data"
    },
    {
     "name": "stdout",
     "output_type": "stream",
     "text": [
      "            count      mean       std  min    25%  50%    75%  max\n",
      "species                                                           \n",
      "setosa       30.0  5.070000  0.356371  4.4  4.825  5.0  5.375  5.8\n",
      "versicolor   30.0  5.910000  0.476590  4.9  5.600  5.8  6.175  7.0\n",
      "virginica    30.0  6.646667  0.533520  5.8  6.300  6.5  6.900  7.9 \n",
      "\n",
      "\n",
      "Mann-Whitney Test:\n",
      " MannwhitneyuResult(statistic=0.0, pvalue=0.0)\n",
      "\n",
      "____________________\n",
      "\n",
      "sepal_width \n",
      "____________________\n",
      "\n"
     ]
    },
    {
     "data": {
      "image/png": "[encoded data removed]",
      "text/plain": [
       "<Figure size 288x288 with 1 Axes>"
      ]
     },
     "metadata": {
      "needs_background": "light"
     },
     "output_type": "display_data"
    },
    {
     "name": "stdout",
     "output_type": "stream",
     "text": [
      "            count      mean       std  min    25%  50%    75%  max\n",
      "species                                                           \n",
      "setosa       30.0  3.446667  0.420782  2.3  3.200  3.4  3.775  4.4\n",
      "versicolor   30.0  2.806667  0.281539  2.3  2.625  2.8  3.000  3.4\n",
      "virginica    30.0  2.956667  0.309263  2.2  2.800  3.0  3.100  3.8 \n",
      "\n",
      "\n",
      "Mann-Whitney Test:\n",
      " MannwhitneyuResult(statistic=0.0, pvalue=0.0)\n",
      "\n",
      "____________________\n",
      "\n",
      "petal_length \n",
      "____________________\n",
      "\n"
     ]
    },
    {
     "data": {
      "image/png": "[encoded data removed]",
      "text/plain": [
       "<Figure size 288x288 with 1 Axes>"
      ]
     },
     "metadata": {
      "needs_background": "light"
     },
     "output_type": "display_data"
    },
    {
     "name": "stdout",
     "output_type": "stream",
     "text": [
      "            count      mean       std  min    25%   50%    75%  max\n",
      "species                                                            \n",
      "setosa       30.0  1.510000  0.178789  1.2  1.400  1.50  1.600  1.9\n",
      "versicolor   30.0  4.273333  0.409317  3.3  4.000  4.25  4.575  5.1\n",
      "virginica    30.0  5.563333  0.492344  4.8  5.125  5.55  5.800  6.9 \n",
      "\n",
      "\n",
      "Mann-Whitney Test:\n",
      " MannwhitneyuResult(statistic=0.0, pvalue=0.0)\n",
      "\n",
      "____________________\n",
      "\n",
      "petal_width \n",
      "____________________\n",
      "\n"
     ]
    },
    {
     "data": {
      "image/png": "[encoded data removed]",
      "text/plain": [
       "<Figure size 288x288 with 1 Axes>"
      ]
     },
     "metadata": {
      "needs_background": "light"
     },
     "output_type": "display_data"
    },
    {
     "name": "stdout",
     "output_type": "stream",
     "text": [
      "            count      mean       std  min  25%  50%    75%  max\n",
      "species                                                         \n",
      "setosa       30.0  0.266667  0.121296  0.1  0.2  0.2  0.375  0.6\n",
      "versicolor   30.0  1.320000  0.193694  1.0  1.2  1.3  1.475  1.8\n",
      "virginica    30.0  2.023333  0.286095  1.5  1.8  2.0  2.300  2.5 \n",
      "\n",
      "\n",
      "Mann-Whitney Test:\n",
      " MannwhitneyuResult(statistic=0.0, pvalue=0.0)\n",
      "\n",
      "____________________\n",
      "\n"
     ]
    }
   ],
   "source": [
    "# This function will produce barplots with horizantal mean for overall mean of metric\n",
    "# It will also produce the descriptive statistics for each species for each measurement type\n",
    "# It also runs a two-sided Mann-Whitney Test but I think this test only works if there are only two categorical groups for each quant var (in this case, there are 3 species, so it doesn't work)\n",
    "target = 'species'\n",
    "explore.explore_bivariate(train, target, cat_vars, quant_vars)"
   ]
  },
  {
   "cell_type": "markdown",
   "id": "9b66b868-b8b1-4abb-8f8a-61fa9bc11bd3",
   "metadata": {},
   "source": [
    "- For virginica & versicolor: Compare the mean petal_width using the Mann-Whitney test (scipy.stats.mannwhitneyu) to see if there is a significant difference between the two groups. Do the same for the other measurement types."
   ]
  },
  {
   "cell_type": "code",
   "execution_count": 128,
   "id": "f2304e33-4675-4dc0-aae1-4c04a587a3b1",
   "metadata": {},
   "outputs": [],
   "source": [
    "from scipy import stats"
   ]
  },
  {
   "cell_type": "code",
   "execution_count": 141,
   "id": "9ef7e136-e7a8-44cf-bbc4-cedba962e00d",
   "metadata": {},
   "outputs": [
    {
     "data": {
      "text/plain": [
       "['sepal_length', 'sepal_width', 'petal_length', 'petal_width']"
      ]
     },
     "execution_count": 141,
     "metadata": {},
     "output_type": "execute_result"
    }
   ],
   "source": [
    "# print out list of quant vars to remind myself what measurement types we have here\n",
    "quant_vars"
   ]
  },
  {
   "cell_type": "code",
   "execution_count": 137,
   "id": "0b6f4a92-aa67-4a72-8a42-658b43a814a6",
   "metadata": {},
   "outputs": [],
   "source": [
    "# this is template for arguments for this function\n",
    "#stats.mannwhitneyu(x, y, alternative='two-sided')"
   ]
  },
  {
   "cell_type": "code",
   "execution_count": 134,
   "id": "c34ce817-2ea4-4e3b-9167-a5d404b9dc1b",
   "metadata": {},
   "outputs": [
    {
     "data": {
      "text/plain": [
       "MannwhitneyuResult(statistic=883.0, pvalue=1.274471779403707e-10)"
      ]
     },
     "execution_count": 134,
     "metadata": {},
     "output_type": "execute_result"
    }
   ],
   "source": [
    "stats.mannwhitneyu(train[train.species=='virginica'].petal_width, train[train.species=='versicolor'].petal_width, alternative='two-sided')"
   ]
  },
  {
   "cell_type": "markdown",
   "id": "dfed57c7-aa5e-4429-bc1e-d0428a37106a",
   "metadata": {},
   "source": [
    "**We reject the null hypothesis and conclude there is evidence of a significant difference between the means of the two groups**"
   ]
  },
  {
   "cell_type": "markdown",
   "id": "2d6349ed-7e6e-4df6-9c2c-bddf9869ef21",
   "metadata": {},
   "source": [
    "Take a look at means:"
   ]
  },
  {
   "cell_type": "code",
   "execution_count": 135,
   "id": "0873c2be-1066-4261-8630-41ca7ba5e54e",
   "metadata": {},
   "outputs": [
    {
     "data": {
      "text/plain": [
       "2.023333333333333"
      ]
     },
     "execution_count": 135,
     "metadata": {},
     "output_type": "execute_result"
    }
   ],
   "source": [
    "train[train.species=='virginica'].petal_width.mean()"
   ]
  },
  {
   "cell_type": "code",
   "execution_count": 136,
   "id": "4e246360-791c-4aad-b98a-bcc7787511a3",
   "metadata": {},
   "outputs": [
    {
     "data": {
      "text/plain": [
       "1.32"
      ]
     },
     "execution_count": 136,
     "metadata": {},
     "output_type": "execute_result"
    }
   ],
   "source": [
    "train[train.species=='versicolor'].petal_width.mean()"
   ]
  },
  {
   "cell_type": "code",
   "execution_count": 139,
   "id": "19c45ee5-648f-46a5-ab78-e4bca9d62737",
   "metadata": {
    "tags": []
   },
   "outputs": [
    {
     "data": {
      "text/plain": [
       "MannwhitneyuResult(statistic=883.0, pvalue=6.372358897018535e-11)"
      ]
     },
     "execution_count": 139,
     "metadata": {},
     "output_type": "execute_result"
    }
   ],
   "source": [
    "# could also run it again as a one-sided test to check if significantly greater\n",
    "stats.mannwhitneyu(train[train.species=='virginica'].petal_width, train[train.species=='versicolor'].petal_width, alternative='greater')"
   ]
  },
  {
   "cell_type": "markdown",
   "id": "cab4b1e8-dc9f-4bff-bb9a-0c8ae5e80272",
   "metadata": {},
   "source": [
    "**Reject null and conclude there is evidence that mean is significantly greater**"
   ]
  },
  {
   "cell_type": "markdown",
   "id": "d5032001-db93-48a0-bdaa-c2b4e6e08532",
   "metadata": {},
   "source": [
    "Do the same thing (only comparing if there is a difference i.e. 'two-sided') for other measurment types"
   ]
  },
  {
   "cell_type": "code",
   "execution_count": 142,
   "id": "db350d86-70e3-45fe-a1d6-ca2aeed394c4",
   "metadata": {
    "tags": []
   },
   "outputs": [
    {
     "data": {
      "text/plain": [
       "MannwhitneyuResult(statistic=892.5, pvalue=6.02995793051305e-11)"
      ]
     },
     "execution_count": 142,
     "metadata": {},
     "output_type": "execute_result"
    }
   ],
   "source": [
    "stats.mannwhitneyu(train[train.species=='virginica'].petal_length, train[train.species=='versicolor'].petal_length, alternative='two-sided')"
   ]
  },
  {
   "cell_type": "markdown",
   "id": "0842bce5-4876-4cc7-b5de-29076c052a7d",
   "metadata": {},
   "source": [
    "**We reject the null hypothesis and conclude there is evidence of a significant difference between the means of the two groups**"
   ]
  },
  {
   "cell_type": "code",
   "execution_count": 143,
   "id": "dee4c390-c815-400f-912e-4e5b64bd6fdc",
   "metadata": {
    "tags": []
   },
   "outputs": [
    {
     "data": {
      "text/plain": [
       "MannwhitneyuResult(statistic=575.0, pvalue=0.06370930409956933)"
      ]
     },
     "execution_count": 143,
     "metadata": {},
     "output_type": "execute_result"
    }
   ],
   "source": [
    "stats.mannwhitneyu(train[train.species=='virginica'].sepal_width, train[train.species=='versicolor'].sepal_width, alternative='two-sided')"
   ]
  },
  {
   "cell_type": "markdown",
   "id": "20de396f-5c99-4a3e-bde8-0afe0dd2af3b",
   "metadata": {},
   "source": [
    "**We fail to reject the null hypothesis and conclude there is not evidence of a significant difference between the means of the two groups**"
   ]
  },
  {
   "cell_type": "code",
   "execution_count": 144,
   "id": "72581545-1140-45d7-9683-17b3d5672b0c",
   "metadata": {
    "tags": []
   },
   "outputs": [
    {
     "data": {
      "text/plain": [
       "MannwhitneyuResult(statistic=767.0, pvalue=2.7482419419190924e-06)"
      ]
     },
     "execution_count": 144,
     "metadata": {},
     "output_type": "execute_result"
    }
   ],
   "source": [
    "stats.mannwhitneyu(train[train.species=='virginica'].sepal_length, train[train.species=='versicolor'].sepal_length, alternative='two-sided')"
   ]
  },
  {
   "cell_type": "markdown",
   "id": "2604d229-6212-42c8-ae8d-360f9a378e36",
   "metadata": {},
   "source": [
    "**We reject the null hypothesis and conclude there is evidence of a significant difference between the means of the two groups**"
   ]
  },
  {
   "cell_type": "markdown",
   "id": "eced3c76-1c8b-4733-a1fe-4f7e63dec96a",
   "metadata": {},
   "source": [
    "- Document takeaways & any actions."
   ]
  },
  {
   "cell_type": "markdown",
   "id": "b59b608d-dea8-4289-a6c8-c21179eba466",
   "metadata": {},
   "source": [
    "    - Differences in summary stats of these different quantitative variables seem to indicate that petal length and width are the most different between species and therefore would likely be the best predictors of species in a model"
   ]
  },
  {
   "cell_type": "markdown",
   "id": "918a7520-e2b2-403b-8457-0af1d8d70f9c",
   "metadata": {},
   "source": [
    "## 4."
   ]
  },
  {
   "cell_type": "markdown",
   "id": "895625b4-da7a-47f9-9ebb-b382b2fd4eb0",
   "metadata": {},
   "source": [
    "Multivariate Stats"
   ]
  },
  {
   "cell_type": "markdown",
   "id": "35fb0329-5cbd-48b2-a475-a132231c0147",
   "metadata": {},
   "source": [
    "- Visualize the interaction of each measurement type with the others using a pairplot (or scatter matrix or something similar) and add color to represent species."
   ]
  },
  {
   "cell_type": "code",
   "execution_count": 155,
   "id": "22445162-fd0b-4bcd-bafa-45064f8d558f",
   "metadata": {},
   "outputs": [
    {
     "data": {
      "image/png": "[encoded data removed]",
      "text/plain": [
       "<Figure size 804.75x720 with 20 Axes>"
      ]
     },
     "metadata": {
      "needs_background": "light"
     },
     "output_type": "display_data"
    }
   ],
   "source": [
    "sns.pairplot(data=train, vars=quant_vars, hue=target)\n",
    "plt.show()"
   ]
  },
  {
   "cell_type": "markdown",
   "id": "23ac369d-24da-4110-972a-0dd216d7ca6a",
   "metadata": {},
   "source": [
    "- Create a swarmplot using a melted dataframe of all your numeric variables. The x-axis should be the variable name, the y-axis the measure. Add another dimension using color to represent species. Document takeaways from this visualization."
   ]
  },
  {
   "cell_type": "code",
   "execution_count": 162,
   "id": "c87cf64c-5564-4af1-8fc5-5eb41bfc28da",
   "metadata": {},
   "outputs": [
    {
     "data": {
      "image/png": "[encoded data removed]",
      "text/plain": [
       "<Figure size 576x432 with 1 Axes>"
      ]
     },
     "metadata": {},
     "output_type": "display_data"
    }
   ],
   "source": [
    "'''\n",
    "Melt the dataset to \"long-form\" representation\n",
    "boxenplot of measurement x value with color representing the target variable. \n",
    "'''\n",
    "my_vars = [item for sublist in [quant_vars, [target]] for item in sublist]\n",
    "sns.set(style=\"whitegrid\", palette=\"muted\")\n",
    "melt = train[my_vars].melt(id_vars=target, var_name=\"measurement\")\n",
    "plt.figure(figsize=(8,6))\n",
    "p = sns.boxenplot(x=\"measurement\", y=\"value\", hue=target, data=melt)\n",
    "p.set(yscale=\"log\", xlabel='')    \n",
    "plt.show()"
   ]
  },
  {
   "cell_type": "code",
   "execution_count": 165,
   "id": "dbc7fe59-78f7-49d7-b5a8-9b67779f6667",
   "metadata": {},
   "outputs": [
    {
     "data": {
      "image/png": "[encoded data removed]",
      "text/plain": [
       "<Figure size 576x432 with 1 Axes>"
      ]
     },
     "metadata": {},
     "output_type": "display_data"
    }
   ],
   "source": [
    "'''\n",
    "Melt the dataset to \"long-form\" representation\n",
    "swarmplot of measurement x value with color representing the target variable. \n",
    "'''\n",
    "my_vars = [item for sublist in [quant_vars, [target]] for item in sublist]\n",
    "sns.set(style=\"whitegrid\", palette=\"muted\")\n",
    "melt = train[my_vars].melt(id_vars=target, var_name=\"measurement\")\n",
    "plt.figure(figsize=(8,6))\n",
    "p = sns.swarmplot(x=\"measurement\", y=\"value\", hue=target, data=melt)\n",
    "p.set(yscale=\"log\", xlabel='')    \n",
    "plt.show()"
   ]
  },
  {
   "cell_type": "markdown",
   "id": "15f457d5-255f-45d1-973e-4318e7056265",
   "metadata": {},
   "source": [
    "- Ask a specific question of the data, such as: is the sepal area signficantly different in virginica compared to setosa? Answer the question through both a plot and using a mann-whitney or t-test. If you use a t-test, be sure assumptions are met (independence, normality, equal variance)."
   ]
  },
  {
   "cell_type": "markdown",
   "id": "cdd58117-9d84-4a24-8114-76455c3336a0",
   "metadata": {},
   "source": [
    "**My question:**\n",
    "\n",
    "**Is petal area significantly different between versicolor and virginica?**"
   ]
  },
  {
   "cell_type": "markdown",
   "id": "d4e86b13-e482-491f-9972-d1305797de04",
   "metadata": {},
   "source": [
    "Plot:"
   ]
  },
  {
   "cell_type": "code",
   "execution_count": 166,
   "id": "18de002b-81b7-4fe9-8936-32063714b53e",
   "metadata": {},
   "outputs": [],
   "source": [
    "#create a new column on train for petal area\n",
    "train['petal_area'] = train.petal_length * train.petal_width"
   ]
  },
  {
   "cell_type": "code",
   "execution_count": 170,
   "id": "2b663abc-6d6e-4f5c-9814-2c06ba01d9a7",
   "metadata": {},
   "outputs": [
    {
     "data": {
      "text/plain": [
       "(5.698666666666667, 11.29)"
      ]
     },
     "execution_count": 170,
     "metadata": {},
     "output_type": "execute_result"
    }
   ],
   "source": [
    "# what are average areas for versicolor and virginica\n",
    "train[train.species=='versicolor'].petal_area.mean(), train[train.species=='virginica'].petal_area.mean()"
   ]
  },
  {
   "cell_type": "code",
   "execution_count": 189,
   "id": "7b9b7df4-0b3d-4577-9cc2-d63cf41fe7db",
   "metadata": {},
   "outputs": [
    {
     "data": {
      "image/png": "[encoded data removed]",
      "text/plain": [
       "<Figure size 432x288 with 1 Axes>"
      ]
     },
     "metadata": {},
     "output_type": "display_data"
    }
   ],
   "source": [
    "# create a boxplot of each species\n",
    "average = train['petal_area'].mean()\n",
    "sns.boxplot(data=train, x='species', y='petal_area')\n",
    "p = plt.title('petal_area')\n",
    "plt.axhline(average, ls='--', color='black')\n",
    "plt.show()"
   ]
  },
  {
   "cell_type": "code",
   "execution_count": 190,
   "id": "e10e97e3-82ca-4696-80be-2f3b16898eea",
   "metadata": {},
   "outputs": [
    {
     "data": {
      "image/png": "[encoded data removed]",
      "text/plain": [
       "<Figure size 432x288 with 1 Axes>"
      ]
     },
     "metadata": {},
     "output_type": "display_data"
    }
   ],
   "source": [
    "# create a swarmplot of each species\n",
    "average = train['petal_area'].mean()\n",
    "sns.swarmplot(data=train, x='species', y='petal_area')\n",
    "p = plt.title('petal_area')\n",
    "plt.axhline(average, ls='--', color='black')\n",
    "plt.show()"
   ]
  },
  {
   "cell_type": "code",
   "execution_count": 191,
   "id": "7b09891d-648c-414d-81a6-f276e735409a",
   "metadata": {},
   "outputs": [
    {
     "data": {
      "image/png": "[encoded data removed]",
      "text/plain": [
       "<Figure size 432x288 with 1 Axes>"
      ]
     },
     "metadata": {},
     "output_type": "display_data"
    }
   ],
   "source": [
    "# create a boxenplot of each species\n",
    "average = train['petal_area'].mean()\n",
    "sns.boxenplot(data=train, x='species', y='petal_area')\n",
    "p = plt.title('petal_area')\n",
    "plt.axhline(average, ls='--', color='black')\n",
    "plt.show()"
   ]
  },
  {
   "cell_type": "markdown",
   "id": "5182822e-93a2-49b6-8303-33104d242acb",
   "metadata": {},
   "source": [
    "Use Mann-Whitney Test to check statistical significance of difference between mean petal area of versicolor and virginica species"
   ]
  },
  {
   "cell_type": "markdown",
   "id": "c223d903-96ca-40c8-a194-1dbeb8b28d92",
   "metadata": {},
   "source": [
    "**$H_0$: There is no significant difference in mean petal area between versicolor and virginica species**\n",
    "\n",
    "**$H_a$: There is a significant difference in mean petal area between versicolor and virginica species**"
   ]
  },
  {
   "cell_type": "code",
   "execution_count": 192,
   "id": "b30255a1-c7e7-4365-b39b-c20ed5af40d3",
   "metadata": {},
   "outputs": [
    {
     "data": {
      "text/plain": [
       "MannwhitneyuResult(statistic=4.5, pvalue=4.719492185926936e-11)"
      ]
     },
     "execution_count": 192,
     "metadata": {},
     "output_type": "execute_result"
    }
   ],
   "source": [
    "stats.mannwhitneyu(train[train.species=='versicolor'].petal_area, train[train.species=='virginica'].petal_area, alternative='two-sided')"
   ]
  },
  {
   "cell_type": "markdown",
   "id": "10706214-e6ae-43d2-a3f1-c363576c2548",
   "metadata": {},
   "source": [
    "***We reject the null hypothesis and have evidence that there is a statistically significant difference in mean petal area between versicolor and virginica species***"
   ]
  },
  {
   "cell_type": "markdown",
   "id": "bee63ba9-0c95-482e-b6bf-3d8cc3d6f902",
   "metadata": {},
   "source": [
    "\n",
    "\n",
    "- Document takeaways and any actions."
   ]
  },
  {
   "cell_type": "markdown",
   "id": "1ef692cb-4f5b-4c72-a0c9-17d99b1f2d42",
   "metadata": {},
   "source": [
    "    - Petal length and width are best predictors of species\n",
    "    - Petal area could also be used to predict species"
   ]
  },
  {
   "cell_type": "code",
   "execution_count": null,
   "id": "10022884-aa33-4231-85c8-14a0822b7c3c",
   "metadata": {},
   "outputs": [],
   "source": []
  }
 ],
 "metadata": {
  "kernelspec": {
   "display_name": "Python 3",
   "language": "python",
   "name": "python3"
  },
  "language_info": {
   "codemirror_mode": {
    "name": "ipython",
    "version": 3
   },
   "file_extension": ".py",
   "mimetype": "text/x-python",
   "name": "python",
   "nbconvert_exporter": "python",
   "pygments_lexer": "ipython3",
   "version": "3.8.8"
  }
 },
 "nbformat": 4,
 "nbformat_minor": 5
}
