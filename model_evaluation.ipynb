{
 "cells": [
  {
   "cell_type": "code",
   "execution_count": 1,
   "id": "69410fac-0abf-4d33-ae79-e8ee789694b3",
   "metadata": {},
   "outputs": [],
   "source": [
    "import pandas as pd\n",
    "\n",
    "from sklearn.metrics import precision_score\n",
    "from sklearn.metrics import accuracy_score\n",
    "from sklearn.metrics import recall_score\n",
    "from sklearn.metrics import classification_report"
   ]
  },
  {
   "cell_type": "markdown",
   "id": "577bc27b-5e2d-4930-9289-fa8aaa1ceb6b",
   "metadata": {},
   "source": [
    "# Classification Evaluation Exercises"
   ]
  },
  {
   "cell_type": "markdown",
   "id": "f0e8b747-9d84-47c5-a65a-b4e0862337ba",
   "metadata": {},
   "source": [
    "## 1."
   ]
  },
  {
   "cell_type": "markdown",
   "id": "91750513-7a04-4efa-be44-e6ac67337fc9",
   "metadata": {},
   "source": [
    "Create a new file named model_evaluation.py or model_evaluation.ipynb for these exercises."
   ]
  },
  {
   "cell_type": "markdown",
   "id": "22b239ca-1886-444d-8632-98a81f91f6c7",
   "metadata": {},
   "source": [
    "## 2."
   ]
  },
  {
   "cell_type": "markdown",
   "id": "026a3a62-a4f6-4dc7-8144-f68b26042593",
   "metadata": {},
   "source": [
    "Given the following confusion matrix, evaluate (by hand) the model's performance.\n",
    "\n",
    "|               | pred dog   | pred cat   |\n",
    "|:------------  |-----------:|-----------:|\n",
    "| actual dog    |         46 |         7  |\n",
    "| actual cat    |         13 |         34 |"
   ]
  },
  {
   "cell_type": "markdown",
   "id": "3f02b26a-f7be-4fbc-9369-7bb1aa0ffc35",
   "metadata": {},
   "source": [
    "**P: Predicted dog**\n",
    "\n",
    "**N: Predicted cat**"
   ]
  },
  {
   "cell_type": "markdown",
   "id": "3832113a-cf8c-4fbd-ab75-3c5732d94d7d",
   "metadata": {},
   "source": [
    "- In the context of this problem, what is a false positive?"
   ]
  },
  {
   "cell_type": "markdown",
   "id": "de19df66-a47a-4ba1-9860-6b280d3471d4",
   "metadata": {},
   "source": [
    "**FP: Predicted dog and was cat**"
   ]
  },
  {
   "cell_type": "markdown",
   "id": "b40c6e66-b086-4f92-93a9-32c923bb195c",
   "metadata": {},
   "source": [
    "- In the context of this problem, what is a false negative?"
   ]
  },
  {
   "cell_type": "markdown",
   "id": "4d4af479-a26d-46be-a5e3-d15c7660ac91",
   "metadata": {},
   "source": [
    "**FN: Predicted cat and was dog**"
   ]
  },
  {
   "cell_type": "markdown",
   "id": "2ed92556-014c-4264-96f2-ba9d3571aaa2",
   "metadata": {},
   "source": [
    "- How would you describe this model?"
   ]
  },
  {
   "cell_type": "markdown",
   "id": "cd50b8e0-9277-4e25-82ad-eddf7ee11224",
   "metadata": {},
   "source": [
    "**Not sure what this is asking, but I think FP and FN are both equally costly in this situation and therefore I would use the F-1 Score to evaluate this model.**\n",
    "\n",
    "**Accuracy = (46 + 34) / (46 + 7 + 13 + 34) = 80 / 100 = 80%**"
   ]
  },
  {
   "cell_type": "markdown",
   "id": "336fcc6a-1057-400a-8c4a-abc1aea9b585",
   "metadata": {},
   "source": [
    "## 3."
   ]
  },
  {
   "cell_type": "markdown",
   "id": "c6067844-a68f-4586-a562-be59614a7fb0",
   "metadata": {},
   "source": [
    "You are working as a datascientist working for Codeup Cody Creator (C3 for short), a rubber-duck manufacturing plant.\n",
    "\n",
    "Unfortunately, some of the rubber ducks that are produced will have defects. Your team has built several models that try to predict those defects, and the data from their predictions can be found here (c3.csv file is saved in same directory as this notebook).\n",
    "\n",
    "Use the predictions dataset and pandas to help answer the following questions:\n",
    "\n",
    "- An internal team wants to investigate the cause of the manufacturing defects. They tell you that they want to identify as many of the ducks that have a defect as possible. Which evaluation metric would be appropriate here? Which model would be the best fit for this use case?"
   ]
  },
  {
   "cell_type": "markdown",
   "id": "6416f23e-0db6-4e45-b6c8-93bf0fb2428f",
   "metadata": {},
   "source": [
    "- Recently several stories in the local news have come out highlighting customers who received a rubber duck with a defect, and portraying C3 in a bad light. The PR team has decided to launch a program that gives customers with a defective duck a vacation to Hawaii. They need you to predict which ducks will have defects, but tell you the really don't want to accidentally give out a vacation package when the duck really doesn't have a defect. Which evaluation metric would be appropriate here? Which model would be the best fit for this use case?"
   ]
  },
  {
   "cell_type": "markdown",
   "id": "fcc17f22-8249-4012-8635-5578210303df",
   "metadata": {},
   "source": [
    "## 4. "
   ]
  },
  {
   "cell_type": "markdown",
   "id": "1f40f459-6eda-45ec-a703-af83c63986e4",
   "metadata": {},
   "source": [
    "You are working as a data scientist for Gives You Paws ™, a subscription based service that shows you cute pictures of dogs or cats (or both for an additional fee).\n",
    "\n",
    "At Gives You Paws, anyone can upload pictures of their cats or dogs. The photos are then put through a two step process. First an automated algorithm tags pictures as either a cat or a dog (Phase I). Next, the photos that have been initially identified are put through another round of review, possibly with some human oversight, before being presented to the users (Phase II).\n",
    "\n",
    "Several models have already been developed with the data, and you can find their results here (gives_you_paws.csv is saved in same directory as this notebook).\n",
    "\n",
    "Given this dataset, use pandas to create a baseline model (i.e. a model that just predicts the most common class) and answer the following questions:\n",
    "\n",
    "- In terms of accuracy, how do the various models compare to the baseline model? Are any of the models better than the baseline?"
   ]
  },
  {
   "cell_type": "markdown",
   "id": "3e844e78-7056-4302-9e95-6d90cf64bc42",
   "metadata": {},
   "source": [
    "- Suppose you are working on a team that solely deals with dog pictures. Which of these models would you recomend for Phase I? For Phase II?"
   ]
  },
  {
   "cell_type": "markdown",
   "id": "7f381738-b7f4-4963-928c-6c1c48e16352",
   "metadata": {},
   "source": [
    "- Suppose you are working on a team that solely deals with cat pictures. Which of these models would you recomend for Phase I? For Phase II?"
   ]
  },
  {
   "cell_type": "markdown",
   "id": "72d5c294-c93a-4d04-b97a-dea5218ce07e",
   "metadata": {},
   "source": [
    "## 5."
   ]
  },
  {
   "cell_type": "markdown",
   "id": "4b8db9bc-022b-4be6-8fe5-19564a78fb56",
   "metadata": {},
   "source": [
    "Follow the links below to read the documentation about each function, then apply those functions to the data from the previous problem. (links are in curriculum)\n",
    "\n",
    "- sklearn.metrics.accuracy_score\n",
    "- sklearn.metrics.precision_score\n",
    "- sklearn.metrics.recall_score\n",
    "- sklearn.metrics.classification_report"
   ]
  },
  {
   "cell_type": "code",
   "execution_count": null,
   "id": "ebeea317-4377-4599-8a88-05f09f2c16bc",
   "metadata": {},
   "outputs": [],
   "source": []
  }
 ],
 "metadata": {
  "kernelspec": {
   "display_name": "Python 3",
   "language": "python",
   "name": "python3"
  },
  "language_info": {
   "codemirror_mode": {
    "name": "ipython",
    "version": 3
   },
   "file_extension": ".py",
   "mimetype": "text/x-python",
   "name": "python",
   "nbconvert_exporter": "python",
   "pygments_lexer": "ipython3",
   "version": "3.8.8"
  }
 },
 "nbformat": 4,
 "nbformat_minor": 5
}
