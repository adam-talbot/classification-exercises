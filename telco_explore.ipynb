{
 "cells": [
  {
   "cell_type": "markdown",
   "id": "baf4df99-2a5c-411c-a75c-2886fefd5120",
   "metadata": {},
   "source": [
    "***I started this nb as extra practice for the explore exercises, but didn't have time to finish it, to find exploration exercises, see classification_exercises.ipynb***"
   ]
  },
  {
   "cell_type": "code",
   "execution_count": 1,
   "id": "69f42492-36f8-4457-b965-9d4ab68fddd0",
   "metadata": {},
   "outputs": [],
   "source": [
    "import matplotlib.pyplot as plt\n",
    "import numpy as np\n",
    "import pandas as pd\n",
    "import seaborn as sns\n",
    "from scipy import stats\n",
    "from sklearn.model_selection import train_test_split # will use this to split data\n",
    "import explore # will use this to do exploration of data\n",
    "from acquire_telco import get_telco_data\n",
    "from prepare_telco import prepare_telco\n",
    "\n",
    "import warnings\n",
    "warnings.filterwarnings(\"ignore\")"
   ]
  },
  {
   "cell_type": "markdown",
   "id": "4e81ec8e-2dd7-4889-bd35-fab54a6bcf93",
   "metadata": {},
   "source": [
    "# EDA using explore.py module on Telco Data "
   ]
  },
  {
   "cell_type": "markdown",
   "id": "44b3ab4c-5886-429c-add7-598e0b196e50",
   "metadata": {},
   "source": [
    "Per Ryan's message in Slack, I will be doing the Exploratory Analysis exercises in the curriculum that were originally intended for the iris dataset on the telco dataset"
   ]
  },
  {
   "cell_type": "markdown",
   "id": "dad27622-17c1-40e2-bc30-f64392f73488",
   "metadata": {},
   "source": [
    "## 1."
   ]
  },
  {
   "cell_type": "markdown",
   "id": "c9978411-9e35-409a-a0d9-ee94f043bbbc",
   "metadata": {},
   "source": [
    "Acquire, prepare & split your data."
   ]
  },
  {
   "cell_type": "code",
   "execution_count": 2,
   "id": "ae07a8b7-4ba3-4938-a863-979f2bb3a4c0",
   "metadata": {},
   "outputs": [],
   "source": [
    "# acquire\n",
    "df = get_telco_data()"
   ]
  },
  {
   "cell_type": "code",
   "execution_count": 3,
   "id": "a5d87f47-016c-4a1d-8595-92cd6853e3a7",
   "metadata": {},
   "outputs": [
    {
     "data": {
      "text/plain": [
       "(7043, 24)"
      ]
     },
     "execution_count": 3,
     "metadata": {},
     "output_type": "execute_result"
    }
   ],
   "source": [
    "df.shape"
   ]
  },
  {
   "cell_type": "code",
   "execution_count": 4,
   "id": "03da72c9-b6fb-479f-8502-13f9fc15668e",
   "metadata": {},
   "outputs": [],
   "source": [
    "# prepare and split\n",
    "train, validate, test = prepare_telco(df)"
   ]
  },
  {
   "cell_type": "code",
   "execution_count": 5,
   "id": "ab45af53-f78b-42b6-8a98-c991f25c517c",
   "metadata": {},
   "outputs": [
    {
     "data": {
      "text/plain": [
       "((4225, 48), (1409, 48), (1409, 48))"
      ]
     },
     "execution_count": 5,
     "metadata": {},
     "output_type": "execute_result"
    }
   ],
   "source": [
    "train.shape, validate.shape, test.shape"
   ]
  },
  {
   "cell_type": "code",
   "execution_count": 9,
   "id": "7f8ad4d6-1bc5-49d8-9764-e8a08151e46d",
   "metadata": {},
   "outputs": [
    {
     "name": "stdout",
     "output_type": "stream",
     "text": [
      "<class 'pandas.core.frame.DataFrame'>\n",
      "Int64Index: 4225 entries, 6169 to 4266\n",
      "Data columns (total 48 columns):\n",
      " #   Column                                 Non-Null Count  Dtype  \n",
      "---  ------                                 --------------  -----  \n",
      " 0   gender                                 4225 non-null   object \n",
      " 1   senior_citizen                         4225 non-null   object \n",
      " 2   partner                                4225 non-null   object \n",
      " 3   dependents                             4225 non-null   object \n",
      " 4   tenure                                 4225 non-null   int64  \n",
      " 5   phone_service                          4225 non-null   object \n",
      " 6   multiple_lines                         4225 non-null   object \n",
      " 7   online_security                        4225 non-null   object \n",
      " 8   online_backup                          4225 non-null   object \n",
      " 9   device_protection                      4225 non-null   object \n",
      " 10  tech_support                           4225 non-null   object \n",
      " 11  streaming_tv                           4225 non-null   object \n",
      " 12  streaming_movies                       4225 non-null   object \n",
      " 13  paperless_billing                      4225 non-null   object \n",
      " 14  monthly_charges                        4225 non-null   float64\n",
      " 15  total_charges                          4225 non-null   float64\n",
      " 16  churn                                  4225 non-null   object \n",
      " 17  internet_service_type                  4225 non-null   object \n",
      " 18  contract_type                          4225 non-null   object \n",
      " 19  payment_type                           4225 non-null   object \n",
      " 20  gender_Male                            4225 non-null   uint8  \n",
      " 21  senior_citizen_Yes                     4225 non-null   uint8  \n",
      " 22  partner_Yes                            4225 non-null   uint8  \n",
      " 23  dependents_Yes                         4225 non-null   uint8  \n",
      " 24  phone_service_Yes                      4225 non-null   uint8  \n",
      " 25  multiple_lines_No phone service        4225 non-null   uint8  \n",
      " 26  multiple_lines_Yes                     4225 non-null   uint8  \n",
      " 27  online_security_No internet service    4225 non-null   uint8  \n",
      " 28  online_security_Yes                    4225 non-null   uint8  \n",
      " 29  online_backup_No internet service      4225 non-null   uint8  \n",
      " 30  online_backup_Yes                      4225 non-null   uint8  \n",
      " 31  device_protection_No internet service  4225 non-null   uint8  \n",
      " 32  device_protection_Yes                  4225 non-null   uint8  \n",
      " 33  tech_support_No internet service       4225 non-null   uint8  \n",
      " 34  tech_support_Yes                       4225 non-null   uint8  \n",
      " 35  streaming_tv_No internet service       4225 non-null   uint8  \n",
      " 36  streaming_tv_Yes                       4225 non-null   uint8  \n",
      " 37  streaming_movies_No internet service   4225 non-null   uint8  \n",
      " 38  streaming_movies_Yes                   4225 non-null   uint8  \n",
      " 39  paperless_billing_Yes                  4225 non-null   uint8  \n",
      " 40  churn_Yes                              4225 non-null   uint8  \n",
      " 41  internet_service_type_Fiber optic      4225 non-null   uint8  \n",
      " 42  internet_service_type_None             4225 non-null   uint8  \n",
      " 43  contract_type_One year                 4225 non-null   uint8  \n",
      " 44  contract_type_Two year                 4225 non-null   uint8  \n",
      " 45  payment_type_Credit card (automatic)   4225 non-null   uint8  \n",
      " 46  payment_type_Electronic check          4225 non-null   uint8  \n",
      " 47  payment_type_Mailed check              4225 non-null   uint8  \n",
      "dtypes: float64(2), int64(1), object(17), uint8(28)\n",
      "memory usage: 808.7+ KB\n"
     ]
    }
   ],
   "source": [
    "train.info()"
   ]
  },
  {
   "cell_type": "markdown",
   "id": "73a929d7-7b53-4674-a7c4-b87961f22695",
   "metadata": {},
   "source": [
    "## 2."
   ]
  },
  {
   "cell_type": "markdown",
   "id": "b38416e2-a333-4fc9-ba19-4eda3526b1ae",
   "metadata": {},
   "source": [
    "Univariate Stats"
   ]
  },
  {
   "cell_type": "markdown",
   "id": "4a2d5ed4-cd1f-426d-8c80-6ba5babd6a47",
   "metadata": {},
   "source": [
    "- For each measurement type (quantitative variable): create a histogram, boxplot, & compute descriptive statistics (using .describe()).\n",
    "- For each species (categorical variable): create a frequency table and a bar plot of those frequencies."
   ]
  },
  {
   "cell_type": "code",
   "execution_count": 11,
   "id": "188463ce-9f5d-425e-b616-eb5af8da9291",
   "metadata": {},
   "outputs": [
    {
     "data": {
      "text/plain": [
       "['tenure', 'monthly_charges', 'total_charges']"
      ]
     },
     "execution_count": 11,
     "metadata": {},
     "output_type": "execute_result"
    }
   ],
   "source": [
    "quant_vars = train.select_dtypes(include = ['float', 'int']).columns.tolist()\n",
    "quant_vars"
   ]
  },
  {
   "cell_type": "code",
   "execution_count": 12,
   "id": "a61a23ce-96dd-4be1-9d50-eba57ee33971",
   "metadata": {},
   "outputs": [
    {
     "data": {
      "text/plain": [
       "['gender',\n",
       " 'senior_citizen',\n",
       " 'partner',\n",
       " 'dependents',\n",
       " 'phone_service',\n",
       " 'multiple_lines',\n",
       " 'online_security',\n",
       " 'online_backup',\n",
       " 'device_protection',\n",
       " 'tech_support',\n",
       " 'streaming_tv',\n",
       " 'streaming_movies',\n",
       " 'paperless_billing',\n",
       " 'churn',\n",
       " 'internet_service_type',\n",
       " 'contract_type',\n",
       " 'payment_type']"
      ]
     },
     "execution_count": 12,
     "metadata": {},
     "output_type": "execute_result"
    }
   ],
   "source": [
    "cat_vars = train.select_dtypes(include = 'object').columns.tolist()\n",
    "cat_vars"
   ]
  },
  {
   "cell_type": "code",
   "execution_count": 13,
   "id": "c19ae9ee-8ba1-484b-8afe-de90c0cfc6bb",
   "metadata": {},
   "outputs": [
    {
     "data": {
      "image/png": "[encoded data removed]",
      "text/plain": [
       "<Figure size 144x144 with 1 Axes>"
      ]
     },
     "metadata": {
      "needs_background": "light"
     },
     "output_type": "display_data"
    },
    {
     "name": "stdout",
     "output_type": "stream",
     "text": [
      "        gender  Count  Percent\n",
      "Male    Female   2146    50.79\n",
      "Female    Male   2079    49.21\n",
      "_________________________________________________________________\n"
     ]
    },
    {
     "data": {
      "image/png": "[encoded data removed]",
      "text/plain": [
       "<Figure size 144x144 with 1 Axes>"
      ]
     },
     "metadata": {
      "needs_background": "light"
     },
     "output_type": "display_data"
    },
    {
     "name": "stdout",
     "output_type": "stream",
     "text": [
      "    senior_citizen  Count  Percent\n",
      "No              No   3508    83.03\n",
      "Yes            Yes    717    16.97\n",
      "_________________________________________________________________\n"
     ]
    },
    {
     "data": {
      "image/png": "[encoded data removed]",
      "text/plain": [
       "<Figure size 144x144 with 1 Axes>"
      ]
     },
     "metadata": {
      "needs_background": "light"
     },
     "output_type": "display_data"
    },
    {
     "name": "stdout",
     "output_type": "stream",
     "text": [
      "    partner  Count  Percent\n",
      "No      Yes   2182    51.64\n",
      "Yes      No   2043    48.36\n",
      "_________________________________________________________________\n"
     ]
    },
    {
     "data": {
      "image/png": "[encoded data removed]",
      "text/plain": [
       "<Figure size 144x144 with 1 Axes>"
      ]
     },
     "metadata": {
      "needs_background": "light"
     },
     "output_type": "display_data"
    },
    {
     "name": "stdout",
     "output_type": "stream",
     "text": [
      "    dependents  Count  Percent\n",
      "No          No   3012    71.29\n",
      "Yes        Yes   1213    28.71\n",
      "_________________________________________________________________\n"
     ]
    },
    {
     "data": {
      "image/png": "[encoded data removed]",
      "text/plain": [
       "<Figure size 144x144 with 1 Axes>"
      ]
     },
     "metadata": {
      "needs_background": "light"
     },
     "output_type": "display_data"
    },
    {
     "name": "stdout",
     "output_type": "stream",
     "text": [
      "    phone_service  Count  Percent\n",
      "Yes           Yes   3822    90.46\n",
      "No             No    403     9.54\n",
      "_________________________________________________________________\n"
     ]
    },
    {
     "data": {
      "image/png": "[encoded data removed]",
      "text/plain": [
       "<Figure size 144x144 with 1 Axes>"
      ]
     },
     "metadata": {
      "needs_background": "light"
     },
     "output_type": "display_data"
    },
    {
     "name": "stdout",
     "output_type": "stream",
     "text": [
      "                    multiple_lines  Count  Percent\n",
      "No                             Yes   2034    48.14\n",
      "Yes               No phone service   1788    42.32\n",
      "No phone service                No    403     9.54\n",
      "_________________________________________________________________\n"
     ]
    },
    {
     "data": {
      "image/png": "[encoded data removed]",
      "text/plain": [
       "<Figure size 144x144 with 1 Axes>"
      ]
     },
     "metadata": {
      "needs_background": "light"
     },
     "output_type": "display_data"
    },
    {
     "name": "stdout",
     "output_type": "stream",
     "text": [
      "                         online_security  Count  Percent\n",
      "No                                   Yes   2084    49.33\n",
      "Yes                                   No   1244    29.44\n",
      "No internet service  No internet service    897    21.23\n",
      "_________________________________________________________________\n"
     ]
    },
    {
     "data": {
      "image/png": "[encoded data removed]",
      "text/plain": [
       "<Figure size 144x144 with 1 Axes>"
      ]
     },
     "metadata": {
      "needs_background": "light"
     },
     "output_type": "display_data"
    },
    {
     "name": "stdout",
     "output_type": "stream",
     "text": [
      "                           online_backup  Count  Percent\n",
      "No                                    No   1851    43.81\n",
      "Yes                  No internet service   1477    34.96\n",
      "No internet service                  Yes    897    21.23\n",
      "_________________________________________________________________\n"
     ]
    },
    {
     "data": {
      "image/png": "[encoded data removed]",
      "text/plain": [
       "<Figure size 144x144 with 1 Axes>"
      ]
     },
     "metadata": {
      "needs_background": "light"
     },
     "output_type": "display_data"
    },
    {
     "name": "stdout",
     "output_type": "stream",
     "text": [
      "                       device_protection  Count  Percent\n",
      "No                                   Yes   1892    44.78\n",
      "Yes                                   No   1436    33.99\n",
      "No internet service  No internet service    897    21.23\n",
      "_________________________________________________________________\n"
     ]
    },
    {
     "data": {
      "image/png": "[encoded data removed]",
      "text/plain": [
       "<Figure size 144x144 with 1 Axes>"
      ]
     },
     "metadata": {
      "needs_background": "light"
     },
     "output_type": "display_data"
    },
    {
     "name": "stdout",
     "output_type": "stream",
     "text": [
      "                            tech_support  Count  Percent\n",
      "No                                    No   2096    49.61\n",
      "Yes                                  Yes   1232    29.16\n",
      "No internet service  No internet service    897    21.23\n",
      "_________________________________________________________________\n"
     ]
    },
    {
     "data": {
      "image/png": "[encoded data removed]",
      "text/plain": [
       "<Figure size 144x144 with 1 Axes>"
      ]
     },
     "metadata": {
      "needs_background": "light"
     },
     "output_type": "display_data"
    },
    {
     "name": "stdout",
     "output_type": "stream",
     "text": [
      "                            streaming_tv  Count  Percent\n",
      "No                                   Yes   1705    40.36\n",
      "Yes                                   No   1623    38.41\n",
      "No internet service  No internet service    897    21.23\n",
      "_________________________________________________________________\n"
     ]
    },
    {
     "data": {
      "image/png": "[encoded data removed]",
      "text/plain": [
       "<Figure size 144x144 with 1 Axes>"
      ]
     },
     "metadata": {
      "needs_background": "light"
     },
     "output_type": "display_data"
    },
    {
     "name": "stdout",
     "output_type": "stream",
     "text": [
      "                        streaming_movies  Count  Percent\n",
      "No                                   Yes   1674    39.62\n",
      "Yes                                   No   1654    39.15\n",
      "No internet service  No internet service    897    21.23\n",
      "_________________________________________________________________\n"
     ]
    },
    {
     "data": {
      "image/png": "[encoded data removed]",
      "text/plain": [
       "<Figure size 144x144 with 1 Axes>"
      ]
     },
     "metadata": {
      "needs_background": "light"
     },
     "output_type": "display_data"
    },
    {
     "name": "stdout",
     "output_type": "stream",
     "text": [
      "    paperless_billing  Count  Percent\n",
      "Yes               Yes   2494    59.03\n",
      "No                 No   1731    40.97\n",
      "_________________________________________________________________\n"
     ]
    },
    {
     "data": {
      "image/png": "[encoded data removed]",
      "text/plain": [
       "<Figure size 144x144 with 1 Axes>"
      ]
     },
     "metadata": {
      "needs_background": "light"
     },
     "output_type": "display_data"
    },
    {
     "name": "stdout",
     "output_type": "stream",
     "text": [
      "    churn  Count  Percent\n",
      "No     No   3104    73.47\n",
      "Yes   Yes   1121    26.53\n",
      "_________________________________________________________________\n"
     ]
    },
    {
     "data": {
      "image/png": "[encoded data removed]",
      "text/plain": [
       "<Figure size 144x144 with 1 Axes>"
      ]
     },
     "metadata": {
      "needs_background": "light"
     },
     "output_type": "display_data"
    },
    {
     "name": "stdout",
     "output_type": "stream",
     "text": [
      "            internet_service_type  Count  Percent\n",
      "Fiber optic           Fiber optic   1909    45.18\n",
      "DSL                           DSL   1419    33.59\n",
      "None                         None    897    21.23\n",
      "_________________________________________________________________\n"
     ]
    },
    {
     "data": {
      "image/png": "[encoded data removed]",
      "text/plain": [
       "<Figure size 144x144 with 1 Axes>"
      ]
     },
     "metadata": {
      "needs_background": "light"
     },
     "output_type": "display_data"
    },
    {
     "name": "stdout",
     "output_type": "stream",
     "text": [
      "                 contract_type  Count  Percent\n",
      "Month-to-month        Two year   2361    55.88\n",
      "Two year        Month-to-month    990    23.43\n",
      "One year              One year    874    20.69\n",
      "_________________________________________________________________\n"
     ]
    },
    {
     "data": {
      "image/png": "[encoded data removed]",
      "text/plain": [
       "<Figure size 144x144 with 1 Axes>"
      ]
     },
     "metadata": {
      "needs_background": "light"
     },
     "output_type": "display_data"
    },
    {
     "name": "stdout",
     "output_type": "stream",
     "text": [
      "                                        payment_type  Count  Percent\n",
      "Electronic check                    Electronic check   1440    34.08\n",
      "Mailed check                            Mailed check    950    22.49\n",
      "Credit card (automatic)    Bank transfer (automatic)    920    21.78\n",
      "Bank transfer (automatic)    Credit card (automatic)    915    21.66\n",
      "_________________________________________________________________\n"
     ]
    },
    {
     "data": {
      "image/png": "[encoded data removed]",
      "text/plain": [
       "<Figure size 576x144 with 2 Axes>"
      ]
     },
     "metadata": {
      "needs_background": "light"
     },
     "output_type": "display_data"
    },
    {
     "name": "stdout",
     "output_type": "stream",
     "text": [
      "count    4225.000000\n",
      "mean       32.286627\n",
      "std        24.500309\n",
      "min         0.000000\n",
      "25%         9.000000\n",
      "50%        29.000000\n",
      "75%        55.000000\n",
      "max        72.000000\n",
      "Name: tenure, dtype: float64\n"
     ]
    },
    {
     "data": {
      "image/png": "[encoded data removed]",
      "text/plain": [
       "<Figure size 576x144 with 2 Axes>"
      ]
     },
     "metadata": {
      "needs_background": "light"
     },
     "output_type": "display_data"
    },
    {
     "name": "stdout",
     "output_type": "stream",
     "text": [
      "count    4225.000000\n",
      "mean       65.284817\n",
      "std        30.033691\n",
      "min        18.250000\n",
      "25%        36.150000\n",
      "50%        71.100000\n",
      "75%        90.050000\n",
      "max       118.750000\n",
      "Name: monthly_charges, dtype: float64\n"
     ]
    },
    {
     "data": {
      "image/png": "[encoded data removed]",
      "text/plain": [
       "<Figure size 576x144 with 2 Axes>"
      ]
     },
     "metadata": {
      "needs_background": "light"
     },
     "output_type": "display_data"
    },
    {
     "name": "stdout",
     "output_type": "stream",
     "text": [
      "count    4225.000000\n",
      "mean     2294.868367\n",
      "std      2265.981134\n",
      "min         0.000000\n",
      "25%       399.250000\n",
      "50%      1422.050000\n",
      "75%      3808.200000\n",
      "max      8684.800000\n",
      "Name: total_charges, dtype: float64\n"
     ]
    }
   ],
   "source": [
    "explore.explore_univariate(train, cat_vars, quant_vars)"
   ]
  },
  {
   "cell_type": "markdown",
   "id": "6dada7d8-d50d-4817-a761-585a06b72637",
   "metadata": {},
   "source": [
    "- **Document takeaways & any actions.**"
   ]
  },
  {
   "cell_type": "markdown",
   "id": "4a52b4cd-b2c2-4fd9-8f49-fdabd7ceabe5",
   "metadata": {},
   "source": [
    "- Gender of customers is split about 50/50 (as expected)\n",
    "- Senior citizens make up a small portion of total customers (~17%)\n",
    "- About half of customers have a partner\n",
    "- Majority of customers (~71%) don't have dependants\n",
    "- "
   ]
  },
  {
   "cell_type": "markdown",
   "id": "01802fe4-00c3-4299-9521-b0441a76f8ee",
   "metadata": {},
   "source": [
    "## 3."
   ]
  },
  {
   "cell_type": "markdown",
   "id": "2085cdb0-0c93-4096-8ddd-3f4cb7604237",
   "metadata": {},
   "source": [
    "Bivariate Stats"
   ]
  },
  {
   "cell_type": "markdown",
   "id": "78d68ed5-9749-4868-a550-00573b669596",
   "metadata": {},
   "source": [
    "- Visualize each measurement type (y-axis) with the species variable (x-axis) using barplots, adding a horizontal line showing the overall mean of the metric (y-axis).\n",
    "- For each measurement type, compute the descriptive statistics for each species."
   ]
  },
  {
   "cell_type": "markdown",
   "id": "34b9043e-19a7-456a-b323-c1ecfb93d0bc",
   "metadata": {},
   "source": [
    "- For virginica & versicolor: Compare the mean petal_width using the Mann-Whitney test (scipy.stats.mannwhitneyu) to see if there is a significant difference between the two groups. Do the same for the other measurement types. (NOT APPLICABLE HERE)"
   ]
  },
  {
   "cell_type": "markdown",
   "id": "d6e665dc-a4d0-43fa-971a-a91e39c50d21",
   "metadata": {},
   "source": [
    "- Document takeaways & any actions."
   ]
  },
  {
   "cell_type": "markdown",
   "id": "76592edb-a2c7-4e42-b607-98f99631a671",
   "metadata": {},
   "source": [
    "## 4."
   ]
  },
  {
   "cell_type": "markdown",
   "id": "25826e4f-1716-43a7-a0aa-2bf165ddb8a9",
   "metadata": {},
   "source": [
    "Multivariate Stats"
   ]
  },
  {
   "cell_type": "markdown",
   "id": "f2c0fc98-0751-4d44-ae0f-d75fa1d3cd7e",
   "metadata": {},
   "source": [
    "- Visualize the interaction of each measurement type with the others using a pairplot (or scatter matrix or something similar) and add color to represent species.\n",
    "- Create a swarmplot using a melted dataframe of all your numeric variables. The x-axis should be the variable name, the y-axis the measure. Add another dimension using color to represent species. Document takeaways from this visualization."
   ]
  },
  {
   "cell_type": "markdown",
   "id": "60ad0666-fbfa-4914-a387-ccf373f734f5",
   "metadata": {},
   "source": [
    "- Ask a specific question of the data, such as: is the sepal area signficantly different in virginica compared to setosa? Answer the question through both a plot and using a mann-whitney or t-test. If you use a t-test, be sure assumptions are met (independence, normality, equal variance)."
   ]
  },
  {
   "cell_type": "markdown",
   "id": "e80807bf-ad78-441e-8716-de7bbe96e514",
   "metadata": {},
   "source": [
    "- Document takeaways and any actions."
   ]
  },
  {
   "cell_type": "code",
   "execution_count": null,
   "id": "4d3d028b-0592-44c3-be3d-437127fa9413",
   "metadata": {},
   "outputs": [],
   "source": []
  }
 ],
 "metadata": {
  "kernelspec": {
   "display_name": "Python 3",
   "language": "python",
   "name": "python3"
  },
  "language_info": {
   "codemirror_mode": {
    "name": "ipython",
    "version": 3
   },
   "file_extension": ".py",
   "mimetype": "text/x-python",
   "name": "python",
   "nbconvert_exporter": "python",
   "pygments_lexer": "ipython3",
   "version": "3.8.8"
  }
 },
 "nbformat": 4,
 "nbformat_minor": 5
}
